{
  "nbformat": 4,
  "nbformat_minor": 0,
  "metadata": {
    "colab": {
      "provenance": [],
      "authorship_tag": "ABX9TyOpxqmo+E/CtHrbYztwdlxy",
      "include_colab_link": true
    },
    "kernelspec": {
      "name": "python3",
      "display_name": "Python 3"
    },
    "language_info": {
      "name": "python"
    }
  },
  "cells": [
    {
      "cell_type": "markdown",
      "metadata": {
        "id": "view-in-github",
        "colab_type": "text"
      },
      "source": [
        "<a href=\"https://colab.research.google.com/github/Lochipi/DataAnalyticsWithPython/blob/main/DataAnalytics.ipynb\" target=\"_parent\"><img src=\"https://colab.research.google.com/assets/colab-badge.svg\" alt=\"Open In Colab\"/></a>"
      ]
    },
    {
      "cell_type": "code",
      "execution_count": 104,
      "metadata": {
        "colab": {
          "base_uri": "https://localhost:8080/"
        },
        "id": "aoQLbrFRDLHA",
        "outputId": "e66683c9-1b47-4aad-83e5-fc8638378bcb"
      },
      "outputs": [
        {
          "output_type": "stream",
          "name": "stdout",
          "text": [
            "Hello World, this is a practice test for Data Analytics with Numpy and Pandas\n"
          ]
        }
      ],
      "source": [
        "print(\"Hello World, this is a practice test for Data Analytics with Numpy and Pandas\")"
      ]
    },
    {
      "cell_type": "markdown",
      "source": [
        "Numpy Library"
      ],
      "metadata": {
        "id": "CjH26jQyEiuL"
      }
    },
    {
      "cell_type": "code",
      "source": [
        "import numpy as np"
      ],
      "metadata": {
        "id": "_Gh3DOqKEL05"
      },
      "execution_count": 105,
      "outputs": []
    },
    {
      "cell_type": "markdown",
      "source": [
        "Creating a list in numpy"
      ],
      "metadata": {
        "id": "9UMe1VGqFEeJ"
      }
    },
    {
      "cell_type": "code",
      "source": [
        "roll_no = [1,2,3,4]\n",
        "print(roll_no)"
      ],
      "metadata": {
        "colab": {
          "base_uri": "https://localhost:8080/"
        },
        "id": "qDyt2rIyFNRf",
        "outputId": "744b5f4e-b85a-4f9a-abc1-1bbee387c701"
      },
      "execution_count": 106,
      "outputs": [
        {
          "output_type": "stream",
          "name": "stdout",
          "text": [
            "[1, 2, 3, 4]\n"
          ]
        }
      ]
    },
    {
      "cell_type": "code",
      "source": [
        "arrl = np.array([1,2,3,4])"
      ],
      "metadata": {
        "id": "cNQJ3PxmEy_d"
      },
      "execution_count": 107,
      "outputs": []
    },
    {
      "cell_type": "code",
      "source": [
        "print(arrl)"
      ],
      "metadata": {
        "colab": {
          "base_uri": "https://localhost:8080/"
        },
        "id": "iyBlPi3eFa_d",
        "outputId": "2933a13f-3d82-46aa-9b15-57935e63b403"
      },
      "execution_count": 108,
      "outputs": [
        {
          "output_type": "stream",
          "name": "stdout",
          "text": [
            "[1 2 3 4]\n"
          ]
        }
      ]
    },
    {
      "cell_type": "markdown",
      "source": [
        "check the data type of the data."
      ],
      "metadata": {
        "id": "ioq5VGa0FmlQ"
      }
    },
    {
      "cell_type": "code",
      "source": [
        "type(roll_no)"
      ],
      "metadata": {
        "colab": {
          "base_uri": "https://localhost:8080/"
        },
        "id": "UX8sLkOFFiWw",
        "outputId": "34b28a76-66a0-433d-c05a-9436ea81bf32"
      },
      "execution_count": 109,
      "outputs": [
        {
          "output_type": "execute_result",
          "data": {
            "text/plain": [
              "list"
            ]
          },
          "metadata": {},
          "execution_count": 109
        }
      ]
    },
    {
      "cell_type": "code",
      "source": [
        "type(arrl)"
      ],
      "metadata": {
        "colab": {
          "base_uri": "https://localhost:8080/"
        },
        "id": "JAUaiCR-FstX",
        "outputId": "74dbd566-4c8e-4d91-84d0-a29b52948334"
      },
      "execution_count": 110,
      "outputs": [
        {
          "output_type": "execute_result",
          "data": {
            "text/plain": [
              "numpy.ndarray"
            ]
          },
          "metadata": {},
          "execution_count": 110
        }
      ]
    },
    {
      "cell_type": "markdown",
      "source": [
        "Multiply, you will get list repeated"
      ],
      "metadata": {
        "id": "W-hSGyW0GS9h"
      }
    },
    {
      "cell_type": "code",
      "source": [
        "roll_no * 3"
      ],
      "metadata": {
        "colab": {
          "base_uri": "https://localhost:8080/"
        },
        "id": "sGZHQAt6Fykt",
        "outputId": "6f082fd7-5483-4f0b-a55b-fc3d1b098dc2"
      },
      "execution_count": 111,
      "outputs": [
        {
          "output_type": "execute_result",
          "data": {
            "text/plain": [
              "[1, 2, 3, 4, 1, 2, 3, 4, 1, 2, 3, 4]"
            ]
          },
          "metadata": {},
          "execution_count": 111
        }
      ]
    },
    {
      "cell_type": "markdown",
      "source": [
        "Multiplication for array you will get an each multiplied "
      ],
      "metadata": {
        "id": "OHgPOChlGgI2"
      }
    },
    {
      "cell_type": "code",
      "source": [
        "arrl * 3"
      ],
      "metadata": {
        "colab": {
          "base_uri": "https://localhost:8080/"
        },
        "id": "rpic1QpdGRq4",
        "outputId": "60135db3-909d-46e9-c63e-100a2f5d4f48"
      },
      "execution_count": 112,
      "outputs": [
        {
          "output_type": "execute_result",
          "data": {
            "text/plain": [
              "array([ 3,  6,  9, 12])"
            ]
          },
          "metadata": {},
          "execution_count": 112
        }
      ]
    },
    {
      "cell_type": "code",
      "source": [
        "arrl + 10"
      ],
      "metadata": {
        "colab": {
          "base_uri": "https://localhost:8080/"
        },
        "id": "e1l0sSdHGfHt",
        "outputId": "109a95da-6e28-4165-be4e-6738816d6d1c"
      },
      "execution_count": 113,
      "outputs": [
        {
          "output_type": "execute_result",
          "data": {
            "text/plain": [
              "array([11, 12, 13, 14])"
            ]
          },
          "metadata": {},
          "execution_count": 113
        }
      ]
    },
    {
      "cell_type": "markdown",
      "source": [
        "Dimensions of the array"
      ],
      "metadata": {
        "id": "wUxWDk71HGjv"
      }
    },
    {
      "cell_type": "code",
      "source": [
        "arrl.ndim"
      ],
      "metadata": {
        "colab": {
          "base_uri": "https://localhost:8080/"
        },
        "id": "Df0RDcvcG6CF",
        "outputId": "98875f4d-643b-4b19-b22f-a931620ff0e0"
      },
      "execution_count": 114,
      "outputs": [
        {
          "output_type": "execute_result",
          "data": {
            "text/plain": [
              "1"
            ]
          },
          "metadata": {},
          "execution_count": 114
        }
      ]
    },
    {
      "cell_type": "markdown",
      "source": [
        "4 Items in it, with one dimension"
      ],
      "metadata": {
        "id": "8wt8uVHVHqdT"
      }
    },
    {
      "cell_type": "code",
      "source": [
        "arrl.shape"
      ],
      "metadata": {
        "colab": {
          "base_uri": "https://localhost:8080/"
        },
        "id": "nmw9S3vIHO4Q",
        "outputId": "135d3543-9014-43ff-811b-7cd4190c3176"
      },
      "execution_count": 115,
      "outputs": [
        {
          "output_type": "execute_result",
          "data": {
            "text/plain": [
              "(4,)"
            ]
          },
          "metadata": {},
          "execution_count": 115
        }
      ]
    },
    {
      "cell_type": "markdown",
      "source": [
        "second array, 2dim array"
      ],
      "metadata": {
        "id": "1tWtHjA1H1b9"
      }
    },
    {
      "cell_type": "code",
      "source": [
        "arr2 = np.array([[1,2], [3,4]])\n",
        "arr2"
      ],
      "metadata": {
        "colab": {
          "base_uri": "https://localhost:8080/"
        },
        "id": "bDTMPm77HgZe",
        "outputId": "a96dc2cb-22f6-40dc-99de-0d4487aa226f"
      },
      "execution_count": 116,
      "outputs": [
        {
          "output_type": "execute_result",
          "data": {
            "text/plain": [
              "array([[1, 2],\n",
              "       [3, 4]])"
            ]
          },
          "metadata": {},
          "execution_count": 116
        }
      ]
    },
    {
      "cell_type": "code",
      "source": [
        "arr2.ndim"
      ],
      "metadata": {
        "colab": {
          "base_uri": "https://localhost:8080/"
        },
        "id": "IBvaZ2ssH9ea",
        "outputId": "5e6c5591-c09c-4599-df5d-b72bc169e922"
      },
      "execution_count": 117,
      "outputs": [
        {
          "output_type": "execute_result",
          "data": {
            "text/plain": [
              "2"
            ]
          },
          "metadata": {},
          "execution_count": 117
        }
      ]
    },
    {
      "cell_type": "code",
      "source": [
        "arr2.shape"
      ],
      "metadata": {
        "colab": {
          "base_uri": "https://localhost:8080/"
        },
        "id": "UPPJ8TttIWsS",
        "outputId": "77652a5d-f4a6-4f1f-cefe-c3c706b98ad2"
      },
      "execution_count": 118,
      "outputs": [
        {
          "output_type": "execute_result",
          "data": {
            "text/plain": [
              "(2, 2)"
            ]
          },
          "metadata": {},
          "execution_count": 118
        }
      ]
    },
    {
      "cell_type": "markdown",
      "source": [
        "Arrange Function"
      ],
      "metadata": {
        "id": "hThEHpkPI-gx"
      }
    },
    {
      "cell_type": "code",
      "source": [
        "arr2 = np.arange(1,21)\n",
        "arr2"
      ],
      "metadata": {
        "colab": {
          "base_uri": "https://localhost:8080/"
        },
        "id": "D0ioSloKIcc6",
        "outputId": "4559802b-ae66-4f0e-e9ab-17a83bdeefb3"
      },
      "execution_count": 119,
      "outputs": [
        {
          "output_type": "execute_result",
          "data": {
            "text/plain": [
              "array([ 1,  2,  3,  4,  5,  6,  7,  8,  9, 10, 11, 12, 13, 14, 15, 16, 17,\n",
              "       18, 19, 20])"
            ]
          },
          "metadata": {},
          "execution_count": 119
        }
      ]
    },
    {
      "cell_type": "code",
      "source": [
        "arr3 = np.arange(20, 38, 2)\n",
        "arr3"
      ],
      "metadata": {
        "colab": {
          "base_uri": "https://localhost:8080/"
        },
        "id": "_5gQuA0qJHNk",
        "outputId": "f13160e8-bd09-417d-8a58-6f944ad0e55b"
      },
      "execution_count": 120,
      "outputs": [
        {
          "output_type": "execute_result",
          "data": {
            "text/plain": [
              "array([20, 22, 24, 26, 28, 30, 32, 34, 36])"
            ]
          },
          "metadata": {},
          "execution_count": 120
        }
      ]
    },
    {
      "cell_type": "markdown",
      "source": [
        "Indexing "
      ],
      "metadata": {
        "id": "uO8hea0SJ9jZ"
      }
    },
    {
      "cell_type": "code",
      "source": [
        "arr3[4]"
      ],
      "metadata": {
        "colab": {
          "base_uri": "https://localhost:8080/"
        },
        "id": "kEsvK8M9JpwX",
        "outputId": "190a196a-3909-4970-9f6b-b6fed48ac488"
      },
      "execution_count": 121,
      "outputs": [
        {
          "output_type": "execute_result",
          "data": {
            "text/plain": [
              "28"
            ]
          },
          "metadata": {},
          "execution_count": 121
        }
      ]
    },
    {
      "cell_type": "markdown",
      "source": [
        "Value at last position\n",
        "\n",
        "you can access the last element using the last number if you know the count. This is not the best case if you have large datasets "
      ],
      "metadata": {
        "id": "EQO3yRdjKvdJ"
      }
    },
    {
      "cell_type": "code",
      "source": [
        "# if you know the values\n",
        "arr3[8]"
      ],
      "metadata": {
        "colab": {
          "base_uri": "https://localhost:8080/"
        },
        "id": "QSepF0wGKbtK",
        "outputId": "5ea46047-ef3b-4ac7-8d50-ce33027a7579"
      },
      "execution_count": 122,
      "outputs": [
        {
          "output_type": "execute_result",
          "data": {
            "text/plain": [
              "36"
            ]
          },
          "metadata": {},
          "execution_count": 122
        }
      ]
    },
    {
      "cell_type": "markdown",
      "source": [
        "Accessing the last index using the best way, down below."
      ],
      "metadata": {
        "id": "bJf27e9WH1Dv"
      }
    },
    {
      "cell_type": "code",
      "source": [
        "# nagative indexing\n",
        "arr3[-1]"
      ],
      "metadata": {
        "colab": {
          "base_uri": "https://localhost:8080/"
        },
        "id": "cgU75eChK2cK",
        "outputId": "6615695d-e6f6-42fa-cc00-39fc778cd53b"
      },
      "execution_count": 123,
      "outputs": [
        {
          "output_type": "execute_result",
          "data": {
            "text/plain": [
              "36"
            ]
          },
          "metadata": {},
          "execution_count": 123
        }
      ]
    },
    {
      "cell_type": "markdown",
      "source": [
        "If you try to access the 9th element you can an error. ☹ "
      ],
      "metadata": {
        "id": "V_tYuNuvHfpI"
      }
    },
    {
      "cell_type": "code",
      "source": [
        "arr3[9]"
      ],
      "metadata": {
        "colab": {
          "base_uri": "https://localhost:8080/",
          "height": 165
        },
        "id": "y9wmeeaLLCM2",
        "outputId": "a75b1952-1f37-4c5d-8852-f986502b0402"
      },
      "execution_count": 124,
      "outputs": [
        {
          "output_type": "error",
          "ename": "IndexError",
          "evalue": "ignored",
          "traceback": [
            "\u001b[0;31m---------------------------------------------------------------------------\u001b[0m",
            "\u001b[0;31mIndexError\u001b[0m                                Traceback (most recent call last)",
            "\u001b[0;32m<ipython-input-124-5f73025e44ae>\u001b[0m in \u001b[0;36m<cell line: 1>\u001b[0;34m()\u001b[0m\n\u001b[0;32m----> 1\u001b[0;31m \u001b[0marr3\u001b[0m\u001b[0;34m[\u001b[0m\u001b[0;36m9\u001b[0m\u001b[0;34m]\u001b[0m\u001b[0;34m\u001b[0m\u001b[0;34m\u001b[0m\u001b[0m\n\u001b[0m",
            "\u001b[0;31mIndexError\u001b[0m: index 9 is out of bounds for axis 0 with size 9"
          ]
        }
      ]
    },
    {
      "cell_type": "code",
      "source": [
        "m1 = np.arange(20, 38, 2)\n",
        "m1"
      ],
      "metadata": {
        "id": "6Iefcj3yj9WU",
        "colab": {
          "base_uri": "https://localhost:8080/"
        },
        "outputId": "ce3b9e87-519b-4275-e5e7-05f4ce2358b3"
      },
      "execution_count": 125,
      "outputs": [
        {
          "output_type": "execute_result",
          "data": {
            "text/plain": [
              "array([20, 22, 24, 26, 28, 30, 32, 34, 36])"
            ]
          },
          "metadata": {},
          "execution_count": 125
        }
      ]
    },
    {
      "cell_type": "code",
      "source": [
        "# getting the 1st/ or 0th element \n",
        "m1[0]"
      ],
      "metadata": {
        "colab": {
          "base_uri": "https://localhost:8080/"
        },
        "id": "KexjjO_bJTVt",
        "outputId": "e9b9053c-96de-4eb7-d46f-caace7e0a6f0"
      },
      "execution_count": 126,
      "outputs": [
        {
          "output_type": "execute_result",
          "data": {
            "text/plain": [
              "20"
            ]
          },
          "metadata": {},
          "execution_count": 126
        }
      ]
    },
    {
      "cell_type": "code",
      "source": [
        "m1[7]"
      ],
      "metadata": {
        "colab": {
          "base_uri": "https://localhost:8080/"
        },
        "id": "cUvffLD5JrSs",
        "outputId": "26288c63-227d-4664-9124-002a6d2cacbb"
      },
      "execution_count": 127,
      "outputs": [
        {
          "output_type": "execute_result",
          "data": {
            "text/plain": [
              "34"
            ]
          },
          "metadata": {},
          "execution_count": 127
        }
      ]
    },
    {
      "cell_type": "code",
      "source": [
        "# negative indexing\n",
        "m1[-2]"
      ],
      "metadata": {
        "colab": {
          "base_uri": "https://localhost:8080/"
        },
        "id": "nrls_I_mJ6jF",
        "outputId": "38846230-4912-47b9-c253-d750c19ea686"
      },
      "execution_count": 128,
      "outputs": [
        {
          "output_type": "execute_result",
          "data": {
            "text/plain": [
              "34"
            ]
          },
          "metadata": {},
          "execution_count": 128
        }
      ]
    },
    {
      "cell_type": "code",
      "source": [
        "m1"
      ],
      "metadata": {
        "colab": {
          "base_uri": "https://localhost:8080/"
        },
        "id": "PaBx4O6TKFhz",
        "outputId": "474dfe2e-8d08-4e2e-dacd-b0a24dddfb79"
      },
      "execution_count": 129,
      "outputs": [
        {
          "output_type": "execute_result",
          "data": {
            "text/plain": [
              "array([20, 22, 24, 26, 28, 30, 32, 34, 36])"
            ]
          },
          "metadata": {},
          "execution_count": 129
        }
      ]
    },
    {
      "cell_type": "code",
      "source": [
        "#slicing \n",
        "# m1[start_idex : end_indx]  it doesn't inclued the last element.\n",
        "\n",
        "m1[1:4]"
      ],
      "metadata": {
        "colab": {
          "base_uri": "https://localhost:8080/"
        },
        "id": "6Duixl-iKkb5",
        "outputId": "15931fef-c408-4723-e579-b43a886faa26"
      },
      "execution_count": 130,
      "outputs": [
        {
          "output_type": "execute_result",
          "data": {
            "text/plain": [
              "array([22, 24, 26])"
            ]
          },
          "metadata": {},
          "execution_count": 130
        }
      ]
    },
    {
      "cell_type": "code",
      "source": [
        "m1[ 4 : 8 ]"
      ],
      "metadata": {
        "colab": {
          "base_uri": "https://localhost:8080/"
        },
        "id": "u32F-0X9LkbB",
        "outputId": "d8ef7796-3fe5-4bcd-f6a5-e27b1787bd66"
      },
      "execution_count": 131,
      "outputs": [
        {
          "output_type": "execute_result",
          "data": {
            "text/plain": [
              "array([28, 30, 32, 34])"
            ]
          },
          "metadata": {},
          "execution_count": 131
        }
      ]
    },
    {
      "cell_type": "markdown",
      "source": [
        "With the negative indexing, the last item starts at -1 coming to the left"
      ],
      "metadata": {
        "id": "sRfhRsMkMGCB"
      }
    },
    {
      "cell_type": "code",
      "source": [
        "m1[ -5 : -1 ]"
      ],
      "metadata": {
        "colab": {
          "base_uri": "https://localhost:8080/"
        },
        "id": "9xkmisaTLzRD",
        "outputId": "f4385fbf-68af-4a49-c017-bc18bc95eaa1"
      },
      "execution_count": 132,
      "outputs": [
        {
          "output_type": "execute_result",
          "data": {
            "text/plain": [
              "array([28, 30, 32, 34])"
            ]
          },
          "metadata": {},
          "execution_count": 132
        }
      ]
    },
    {
      "cell_type": "code",
      "source": [
        "# Fancy Indexing"
      ],
      "metadata": {
        "id": "XrwSz0p8MBT_"
      },
      "execution_count": 133,
      "outputs": []
    },
    {
      "cell_type": "markdown",
      "source": [
        "We're checking if the elements inside m1 are less than 30, it returns true if it below else false."
      ],
      "metadata": {
        "id": "A2218vyvMmvY"
      }
    },
    {
      "cell_type": "code",
      "source": [
        "mask = m1 < 30\n",
        "mask"
      ],
      "metadata": {
        "colab": {
          "base_uri": "https://localhost:8080/"
        },
        "id": "WERi062FMWH5",
        "outputId": "ac946cc9-7483-475e-85f2-e85b95b59b9e"
      },
      "execution_count": 134,
      "outputs": [
        {
          "output_type": "execute_result",
          "data": {
            "text/plain": [
              "array([ True,  True,  True,  True,  True, False, False, False, False])"
            ]
          },
          "metadata": {},
          "execution_count": 134
        }
      ]
    },
    {
      "cell_type": "markdown",
      "source": [
        "`m1[mask]` is a way to access certain elements of a NumPy array `m1`. The `mask` is a boolean array of the same shape as `m1`, used to index or filter out certain elements of `m1`\n",
        "\n",
        "`m1[mask]` will return a new NumPy array of elements from `m1` where the corresponding element in `mask` is `True`"
      ],
      "metadata": {
        "id": "sHVzZ2GNkO4r"
      }
    },
    {
      "cell_type": "code",
      "source": [
        "m1[mask]"
      ],
      "metadata": {
        "colab": {
          "base_uri": "https://localhost:8080/"
        },
        "id": "c0WZ58yBMePl",
        "outputId": "87e9b991-47c7-4327-8eb0-bacf3e4acff5"
      },
      "execution_count": 135,
      "outputs": [
        {
          "output_type": "execute_result",
          "data": {
            "text/plain": [
              "array([20, 22, 24, 26, 28])"
            ]
          },
          "metadata": {},
          "execution_count": 135
        }
      ]
    },
    {
      "cell_type": "code",
      "source": [
        "type(m1)"
      ],
      "metadata": {
        "colab": {
          "base_uri": "https://localhost:8080/"
        },
        "id": "tO1XlAGYloqT",
        "outputId": "879c48f5-fbb3-4a34-8dae-0de1da28ddef"
      },
      "execution_count": 136,
      "outputs": [
        {
          "output_type": "execute_result",
          "data": {
            "text/plain": [
              "numpy.ndarray"
            ]
          },
          "metadata": {},
          "execution_count": 136
        }
      ]
    },
    {
      "cell_type": "markdown",
      "source": [
        "the same can be done this way"
      ],
      "metadata": {
        "id": "cbZssQ2vkutm"
      }
    },
    {
      "cell_type": "code",
      "source": [
        "m1[ m1 < 30 ]"
      ],
      "metadata": {
        "colab": {
          "base_uri": "https://localhost:8080/"
        },
        "id": "5PwITTiOki3k",
        "outputId": "7ce7a42a-3db8-40b7-dbde-46e962149017"
      },
      "execution_count": 137,
      "outputs": [
        {
          "output_type": "execute_result",
          "data": {
            "text/plain": [
              "array([20, 22, 24, 26, 28])"
            ]
          },
          "metadata": {},
          "execution_count": 137
        }
      ]
    },
    {
      "cell_type": "markdown",
      "source": [
        "Down below, `m1` is an array variable. `m1%2==0` checks if the elements of the list m1 are even or not. If the element is even (leaves no remainder when divided by 2), then the condition becomes `True`. Otherwise, the condition becomes `False`.\n",
        "\n",
        "Using square brackets [ ], we apply this condition as a filter on the list m1. It only keeps the numbers that fulfill the condition (i.e., the even numbers), and returns a new list containing only the `even numbers` from the original list m1."
      ],
      "metadata": {
        "id": "5FQlNV2hlf_B"
      }
    },
    {
      "cell_type": "code",
      "source": [
        "m1[ m1%2 == 0 ]"
      ],
      "metadata": {
        "colab": {
          "base_uri": "https://localhost:8080/"
        },
        "id": "UjpK-IpMk9rE",
        "outputId": "bd90ef5f-6055-46d0-f125-f5944e7e9e99"
      },
      "execution_count": 138,
      "outputs": [
        {
          "output_type": "execute_result",
          "data": {
            "text/plain": [
              "array([20, 22, 24, 26, 28, 30, 32, 34, 36])"
            ]
          },
          "metadata": {},
          "execution_count": 138
        }
      ]
    },
    {
      "cell_type": "markdown",
      "source": [
        "This code creates two one-dimensional numpy arrays- `a` and `b`, with values `[1,3,5]` and `[2,1,1]` respectively. These arrays can be used to perform mathematical operations like addition, subtraction, multiplication, etc. on them."
      ],
      "metadata": {
        "id": "spy5FdGjmsZg"
      }
    },
    {
      "cell_type": "code",
      "source": [
        "a = np.array([1,3,5])\n",
        "b = np.array([2,1,1])\n",
        "\n",
        "print(a)\n",
        "print(b)"
      ],
      "metadata": {
        "colab": {
          "base_uri": "https://localhost:8080/"
        },
        "id": "Bj65S9xJmOvW",
        "outputId": "425da50f-bec1-4be5-896d-1db6ec202480"
      },
      "execution_count": 139,
      "outputs": [
        {
          "output_type": "stream",
          "name": "stdout",
          "text": [
            "[1 3 5]\n",
            "[2 1 1]\n"
          ]
        }
      ]
    },
    {
      "cell_type": "markdown",
      "source": [
        "Adding the two arrays"
      ],
      "metadata": {
        "id": "SaORhzDOn1sb"
      }
    },
    {
      "cell_type": "code",
      "source": [
        "a + b"
      ],
      "metadata": {
        "colab": {
          "base_uri": "https://localhost:8080/"
        },
        "id": "rlXO7Rylm2nL",
        "outputId": "dbe64280-a082-4487-b720-bf372d8dc985"
      },
      "execution_count": 140,
      "outputs": [
        {
          "output_type": "execute_result",
          "data": {
            "text/plain": [
              "array([3, 4, 6])"
            ]
          },
          "metadata": {},
          "execution_count": 140
        }
      ]
    },
    {
      "cell_type": "markdown",
      "source": [
        "finding the smallest value in `a`"
      ],
      "metadata": {
        "id": "L0OjG1Tun-i1"
      }
    },
    {
      "cell_type": "code",
      "source": [
        "np.min(a)"
      ],
      "metadata": {
        "colab": {
          "base_uri": "https://localhost:8080/"
        },
        "id": "y_b71s9-n7qK",
        "outputId": "dfc54592-2a6c-467d-9ce9-9697009fe16f"
      },
      "execution_count": 141,
      "outputs": [
        {
          "output_type": "execute_result",
          "data": {
            "text/plain": [
              "1"
            ]
          },
          "metadata": {},
          "execution_count": 141
        }
      ]
    },
    {
      "cell_type": "markdown",
      "source": [
        "Maximum value in `b`"
      ],
      "metadata": {
        "id": "Rl5jz3pKoNpU"
      }
    },
    {
      "cell_type": "code",
      "source": [
        "np.max(b)"
      ],
      "metadata": {
        "colab": {
          "base_uri": "https://localhost:8080/"
        },
        "id": "IabMo475oINU",
        "outputId": "b819b5b2-5f15-4a49-bc50-d50f3d490a9b"
      },
      "execution_count": 142,
      "outputs": [
        {
          "output_type": "execute_result",
          "data": {
            "text/plain": [
              "2"
            ]
          },
          "metadata": {},
          "execution_count": 142
        }
      ]
    },
    {
      "cell_type": "markdown",
      "source": [
        "The average of `a`"
      ],
      "metadata": {
        "id": "hvNvR65BoSB7"
      }
    },
    {
      "cell_type": "code",
      "source": [
        "np.average(a)"
      ],
      "metadata": {
        "colab": {
          "base_uri": "https://localhost:8080/"
        },
        "id": "FEauObzHoMSH",
        "outputId": "e0da59ad-5e4c-4cfe-b098-8a83d727a62f"
      },
      "execution_count": 143,
      "outputs": [
        {
          "output_type": "execute_result",
          "data": {
            "text/plain": [
              "3.0"
            ]
          },
          "metadata": {},
          "execution_count": 143
        }
      ]
    },
    {
      "cell_type": "code",
      "source": [],
      "metadata": {
        "id": "VSW5AScMoV6q"
      },
      "execution_count": null,
      "outputs": []
    }
  ]
}