{
  "nbformat": 4,
  "nbformat_minor": 0,
  "metadata": {
    "colab": {
      "provenance": [],
      "authorship_tag": "ABX9TyPD4oU6AYkBdfNwByUceXaS",
      "include_colab_link": true
    },
    "kernelspec": {
      "name": "python3",
      "display_name": "Python 3"
    },
    "language_info": {
      "name": "python"
    }
  },
  "cells": [
    {
      "cell_type": "markdown",
      "metadata": {
        "id": "view-in-github",
        "colab_type": "text"
      },
      "source": [
        "<a href=\"https://colab.research.google.com/github/Lochipi/DataAnalyticsWithPython/blob/main/DataAnalytics.ipynb\" target=\"_parent\"><img src=\"https://colab.research.google.com/assets/colab-badge.svg\" alt=\"Open In Colab\"/></a>"
      ]
    },
    {
      "cell_type": "code",
      "execution_count": null,
      "metadata": {
        "colab": {
          "base_uri": "https://localhost:8080/"
        },
        "id": "aoQLbrFRDLHA",
        "outputId": "157231ea-c0c2-4df3-c832-9fa3fe7873f9"
      },
      "outputs": [
        {
          "output_type": "stream",
          "name": "stdout",
          "text": [
            "Hello World, this is a practice test for Data Analytics with Numpy and Pandas\n"
          ]
        }
      ],
      "source": [
        "print(\"Hello World, this is a practice test for Data Analytics with Numpy and Pandas\")"
      ]
    },
    {
      "cell_type": "markdown",
      "source": [
        "Numpy Library"
      ],
      "metadata": {
        "id": "CjH26jQyEiuL"
      }
    },
    {
      "cell_type": "code",
      "source": [
        "import numpy as np"
      ],
      "metadata": {
        "id": "_Gh3DOqKEL05"
      },
      "execution_count": null,
      "outputs": []
    },
    {
      "cell_type": "markdown",
      "source": [
        "Creating a list in numpy"
      ],
      "metadata": {
        "id": "9UMe1VGqFEeJ"
      }
    },
    {
      "cell_type": "code",
      "source": [
        "roll_no = [1,2,3,4]\n",
        "print(roll_no)"
      ],
      "metadata": {
        "colab": {
          "base_uri": "https://localhost:8080/"
        },
        "id": "qDyt2rIyFNRf",
        "outputId": "18766713-c2ca-4e47-a023-f7c9606ace2c"
      },
      "execution_count": null,
      "outputs": [
        {
          "output_type": "stream",
          "name": "stdout",
          "text": [
            "[1, 2, 3, 4]\n"
          ]
        }
      ]
    },
    {
      "cell_type": "code",
      "source": [
        "arrl = np.array([1,2,3,4])"
      ],
      "metadata": {
        "id": "cNQJ3PxmEy_d"
      },
      "execution_count": null,
      "outputs": []
    },
    {
      "cell_type": "code",
      "source": [
        "print(arrl)"
      ],
      "metadata": {
        "colab": {
          "base_uri": "https://localhost:8080/"
        },
        "id": "iyBlPi3eFa_d",
        "outputId": "77498b5a-f949-464a-860c-ed288febf21e"
      },
      "execution_count": null,
      "outputs": [
        {
          "output_type": "stream",
          "name": "stdout",
          "text": [
            "[1 2 3 4]\n"
          ]
        }
      ]
    },
    {
      "cell_type": "markdown",
      "source": [
        "check the data type of the data."
      ],
      "metadata": {
        "id": "ioq5VGa0FmlQ"
      }
    },
    {
      "cell_type": "code",
      "source": [
        "type(roll_no)"
      ],
      "metadata": {
        "colab": {
          "base_uri": "https://localhost:8080/"
        },
        "id": "UX8sLkOFFiWw",
        "outputId": "0e9bb207-3789-4569-d76e-369187d306cf"
      },
      "execution_count": null,
      "outputs": [
        {
          "output_type": "execute_result",
          "data": {
            "text/plain": [
              "list"
            ]
          },
          "metadata": {},
          "execution_count": 7
        }
      ]
    },
    {
      "cell_type": "code",
      "source": [
        "type(arrl)"
      ],
      "metadata": {
        "colab": {
          "base_uri": "https://localhost:8080/"
        },
        "id": "JAUaiCR-FstX",
        "outputId": "040b9c77-3540-4b85-e666-6ba963c3bcff"
      },
      "execution_count": null,
      "outputs": [
        {
          "output_type": "execute_result",
          "data": {
            "text/plain": [
              "numpy.ndarray"
            ]
          },
          "metadata": {},
          "execution_count": 8
        }
      ]
    },
    {
      "cell_type": "markdown",
      "source": [
        "Multiply, you will get list repeated"
      ],
      "metadata": {
        "id": "W-hSGyW0GS9h"
      }
    },
    {
      "cell_type": "code",
      "source": [
        "roll_no * 3"
      ],
      "metadata": {
        "colab": {
          "base_uri": "https://localhost:8080/"
        },
        "id": "sGZHQAt6Fykt",
        "outputId": "1a7ae053-dff0-4343-e5f7-b888ad8890c6"
      },
      "execution_count": null,
      "outputs": [
        {
          "output_type": "execute_result",
          "data": {
            "text/plain": [
              "[1, 2, 3, 4, 1, 2, 3, 4, 1, 2, 3, 4]"
            ]
          },
          "metadata": {},
          "execution_count": 9
        }
      ]
    },
    {
      "cell_type": "markdown",
      "source": [
        "Multiplication for array you will get an each multiplied "
      ],
      "metadata": {
        "id": "OHgPOChlGgI2"
      }
    },
    {
      "cell_type": "code",
      "source": [
        "arrl * 3"
      ],
      "metadata": {
        "colab": {
          "base_uri": "https://localhost:8080/"
        },
        "id": "rpic1QpdGRq4",
        "outputId": "9d77e367-0678-45c3-d9da-b986347bffa3"
      },
      "execution_count": null,
      "outputs": [
        {
          "output_type": "execute_result",
          "data": {
            "text/plain": [
              "array([ 3,  6,  9, 12])"
            ]
          },
          "metadata": {},
          "execution_count": 10
        }
      ]
    },
    {
      "cell_type": "code",
      "source": [
        "arrl + 10"
      ],
      "metadata": {
        "colab": {
          "base_uri": "https://localhost:8080/"
        },
        "id": "e1l0sSdHGfHt",
        "outputId": "5d27aa58-b71c-4e37-939f-b988ce327f79"
      },
      "execution_count": null,
      "outputs": [
        {
          "output_type": "execute_result",
          "data": {
            "text/plain": [
              "array([11, 12, 13, 14])"
            ]
          },
          "metadata": {},
          "execution_count": 11
        }
      ]
    },
    {
      "cell_type": "markdown",
      "source": [
        "Dimensions of the array"
      ],
      "metadata": {
        "id": "wUxWDk71HGjv"
      }
    },
    {
      "cell_type": "code",
      "source": [
        "arrl.ndim"
      ],
      "metadata": {
        "colab": {
          "base_uri": "https://localhost:8080/"
        },
        "id": "Df0RDcvcG6CF",
        "outputId": "948309ca-f5e0-452e-e365-672024341afe"
      },
      "execution_count": null,
      "outputs": [
        {
          "output_type": "execute_result",
          "data": {
            "text/plain": [
              "1"
            ]
          },
          "metadata": {},
          "execution_count": 12
        }
      ]
    },
    {
      "cell_type": "markdown",
      "source": [
        "4 Items in it, with one dimension"
      ],
      "metadata": {
        "id": "8wt8uVHVHqdT"
      }
    },
    {
      "cell_type": "code",
      "source": [
        "arrl.shape"
      ],
      "metadata": {
        "colab": {
          "base_uri": "https://localhost:8080/"
        },
        "id": "nmw9S3vIHO4Q",
        "outputId": "679ff792-f96d-4f10-a03d-62ad72119156"
      },
      "execution_count": null,
      "outputs": [
        {
          "output_type": "execute_result",
          "data": {
            "text/plain": [
              "(4,)"
            ]
          },
          "metadata": {},
          "execution_count": 13
        }
      ]
    },
    {
      "cell_type": "markdown",
      "source": [
        "second array, 2dim array"
      ],
      "metadata": {
        "id": "1tWtHjA1H1b9"
      }
    },
    {
      "cell_type": "code",
      "source": [
        "arr2 = np.array([[1,2], [3,4]])\n",
        "arr2"
      ],
      "metadata": {
        "colab": {
          "base_uri": "https://localhost:8080/"
        },
        "id": "bDTMPm77HgZe",
        "outputId": "d53cd9f0-ff5a-41ac-c6fe-f872dc00a1e8"
      },
      "execution_count": null,
      "outputs": [
        {
          "output_type": "execute_result",
          "data": {
            "text/plain": [
              "array([[1, 2],\n",
              "       [3, 4]])"
            ]
          },
          "metadata": {},
          "execution_count": 14
        }
      ]
    },
    {
      "cell_type": "code",
      "source": [
        "arr2.ndim"
      ],
      "metadata": {
        "colab": {
          "base_uri": "https://localhost:8080/"
        },
        "id": "IBvaZ2ssH9ea",
        "outputId": "bcbe5d19-a440-4d7b-c51e-43d7fc18975f"
      },
      "execution_count": null,
      "outputs": [
        {
          "output_type": "execute_result",
          "data": {
            "text/plain": [
              "2"
            ]
          },
          "metadata": {},
          "execution_count": 15
        }
      ]
    },
    {
      "cell_type": "code",
      "source": [
        "arr2.shape"
      ],
      "metadata": {
        "colab": {
          "base_uri": "https://localhost:8080/"
        },
        "id": "UPPJ8TttIWsS",
        "outputId": "1046a9f0-078c-46c8-dac0-3145b70adc8c"
      },
      "execution_count": null,
      "outputs": [
        {
          "output_type": "execute_result",
          "data": {
            "text/plain": [
              "(2, 2)"
            ]
          },
          "metadata": {},
          "execution_count": 16
        }
      ]
    },
    {
      "cell_type": "markdown",
      "source": [
        "Arrange Function"
      ],
      "metadata": {
        "id": "hThEHpkPI-gx"
      }
    },
    {
      "cell_type": "code",
      "source": [
        "arr2 = np.arange(1,21)\n",
        "arr2"
      ],
      "metadata": {
        "colab": {
          "base_uri": "https://localhost:8080/"
        },
        "id": "D0ioSloKIcc6",
        "outputId": "2b8bbab8-ddcd-4798-8d2c-dea37e05543a"
      },
      "execution_count": null,
      "outputs": [
        {
          "output_type": "execute_result",
          "data": {
            "text/plain": [
              "array([ 1,  2,  3,  4,  5,  6,  7,  8,  9, 10, 11, 12, 13, 14, 15, 16, 17,\n",
              "       18, 19, 20])"
            ]
          },
          "metadata": {},
          "execution_count": 17
        }
      ]
    },
    {
      "cell_type": "code",
      "source": [
        "arr3 = np.arange(20, 38, 2)\n",
        "arr3"
      ],
      "metadata": {
        "colab": {
          "base_uri": "https://localhost:8080/"
        },
        "id": "_5gQuA0qJHNk",
        "outputId": "6f986f31-e8c9-4d8a-d6a8-152c647386a4"
      },
      "execution_count": null,
      "outputs": [
        {
          "output_type": "execute_result",
          "data": {
            "text/plain": [
              "array([20, 22, 24, 26, 28, 30, 32, 34, 36])"
            ]
          },
          "metadata": {},
          "execution_count": 18
        }
      ]
    },
    {
      "cell_type": "markdown",
      "source": [
        "Indexing "
      ],
      "metadata": {
        "id": "uO8hea0SJ9jZ"
      }
    },
    {
      "cell_type": "code",
      "source": [
        "arr3[4]"
      ],
      "metadata": {
        "colab": {
          "base_uri": "https://localhost:8080/"
        },
        "id": "kEsvK8M9JpwX",
        "outputId": "032dcbc9-5b41-467c-b4b9-3c7987b6e2eb"
      },
      "execution_count": null,
      "outputs": [
        {
          "output_type": "execute_result",
          "data": {
            "text/plain": [
              "28"
            ]
          },
          "metadata": {},
          "execution_count": 19
        }
      ]
    },
    {
      "cell_type": "markdown",
      "source": [
        "Value at last position\n",
        "\n",
        "you can access the last element using the last number if you know the count. This is not the best case if you have large datasets "
      ],
      "metadata": {
        "id": "EQO3yRdjKvdJ"
      }
    },
    {
      "cell_type": "code",
      "source": [
        "# if you know the values\n",
        "arr3[8]"
      ],
      "metadata": {
        "colab": {
          "base_uri": "https://localhost:8080/"
        },
        "id": "QSepF0wGKbtK",
        "outputId": "e9cb70e6-a0e0-4e68-96e6-f6b7830ce86a"
      },
      "execution_count": null,
      "outputs": [
        {
          "output_type": "execute_result",
          "data": {
            "text/plain": [
              "36"
            ]
          },
          "metadata": {},
          "execution_count": 20
        }
      ]
    },
    {
      "cell_type": "markdown",
      "source": [
        "Accessing the last index using the best way, down below."
      ],
      "metadata": {
        "id": "bJf27e9WH1Dv"
      }
    },
    {
      "cell_type": "code",
      "source": [
        "# nagative indexing\n",
        "arr3[-1]"
      ],
      "metadata": {
        "colab": {
          "base_uri": "https://localhost:8080/"
        },
        "id": "cgU75eChK2cK",
        "outputId": "26a5d4a7-60a6-41f0-8706-70cd5309ef1d"
      },
      "execution_count": null,
      "outputs": [
        {
          "output_type": "execute_result",
          "data": {
            "text/plain": [
              "36"
            ]
          },
          "metadata": {},
          "execution_count": 21
        }
      ]
    },
    {
      "cell_type": "markdown",
      "source": [
        "If you try to access the 9th element you can an error. ☹ "
      ],
      "metadata": {
        "id": "V_tYuNuvHfpI"
      }
    },
    {
      "cell_type": "code",
      "source": [
        "arr3[9]"
      ],
      "metadata": {
        "colab": {
          "base_uri": "https://localhost:8080/",
          "height": 165
        },
        "id": "y9wmeeaLLCM2",
        "outputId": "237e35c9-d191-47dd-9278-3515e5cd443a"
      },
      "execution_count": null,
      "outputs": [
        {
          "output_type": "error",
          "ename": "IndexError",
          "evalue": "ignored",
          "traceback": [
            "\u001b[0;31m---------------------------------------------------------------------------\u001b[0m",
            "\u001b[0;31mIndexError\u001b[0m                                Traceback (most recent call last)",
            "\u001b[0;32m<ipython-input-22-5f73025e44ae>\u001b[0m in \u001b[0;36m<cell line: 1>\u001b[0;34m()\u001b[0m\n\u001b[0;32m----> 1\u001b[0;31m \u001b[0marr3\u001b[0m\u001b[0;34m[\u001b[0m\u001b[0;36m9\u001b[0m\u001b[0;34m]\u001b[0m\u001b[0;34m\u001b[0m\u001b[0;34m\u001b[0m\u001b[0m\n\u001b[0m",
            "\u001b[0;31mIndexError\u001b[0m: index 9 is out of bounds for axis 0 with size 9"
          ]
        }
      ]
    },
    {
      "cell_type": "markdown",
      "source": [
        "Now, i want to get an"
      ],
      "metadata": {
        "id": "3Ql5aEOkLdFG"
      }
    },
    {
      "cell_type": "code",
      "source": [
        "arr3[7]"
      ],
      "metadata": {
        "colab": {
          "base_uri": "https://localhost:8080/"
        },
        "id": "JACbn8lnLZiX",
        "outputId": "23b43779-9caa-4119-92cd-130e3e782774"
      },
      "execution_count": null,
      "outputs": [
        {
          "output_type": "execute_result",
          "data": {
            "text/plain": [
              "34"
            ]
          },
          "metadata": {},
          "execution_count": 23
        }
      ]
    },
    {
      "cell_type": "code",
      "source": [],
      "metadata": {
        "id": "6Iefcj3yj9WU"
      },
      "execution_count": null,
      "outputs": []
    }
  ]
}