{
  "nbformat": 4,
  "nbformat_minor": 0,
  "metadata": {
    "colab": {
      "provenance": [],
      "authorship_tag": "ABX9TyM0suBNfP+WpnDv28l77zSu",
      "include_colab_link": true
    },
    "kernelspec": {
      "name": "python3",
      "display_name": "Python 3"
    },
    "language_info": {
      "name": "python"
    }
  },
  "cells": [
    {
      "cell_type": "markdown",
      "metadata": {
        "id": "view-in-github",
        "colab_type": "text"
      },
      "source": [
        "<a href=\"https://colab.research.google.com/github/Lochipi/DataAnalyticsWithPython/blob/main/DataAnalytics.ipynb\" target=\"_parent\"><img src=\"https://colab.research.google.com/assets/colab-badge.svg\" alt=\"Open In Colab\"/></a>"
      ]
    },
    {
      "cell_type": "code",
      "execution_count": 1,
      "metadata": {
        "colab": {
          "base_uri": "https://localhost:8080/"
        },
        "id": "aoQLbrFRDLHA",
        "outputId": "8a0bb31a-aa71-4df0-a72d-984498d045f5"
      },
      "outputs": [
        {
          "output_type": "stream",
          "name": "stdout",
          "text": [
            "Hello World, this is a practice test for Data Analytics with Numpy and Pandas\n"
          ]
        }
      ],
      "source": [
        "print(\"Hello World, this is a practice test for Data Analytics with Numpy and Pandas\")"
      ]
    },
    {
      "cell_type": "markdown",
      "source": [
        "Numpy Library"
      ],
      "metadata": {
        "id": "CjH26jQyEiuL"
      }
    },
    {
      "cell_type": "code",
      "source": [
        "import numpy as np"
      ],
      "metadata": {
        "id": "_Gh3DOqKEL05"
      },
      "execution_count": 2,
      "outputs": []
    },
    {
      "cell_type": "markdown",
      "source": [
        "Creating a list in numpy"
      ],
      "metadata": {
        "id": "9UMe1VGqFEeJ"
      }
    },
    {
      "cell_type": "code",
      "source": [
        "roll_no = [1,2,3,4]\n",
        "print(roll_no)"
      ],
      "metadata": {
        "colab": {
          "base_uri": "https://localhost:8080/"
        },
        "id": "qDyt2rIyFNRf",
        "outputId": "f2e5a0cf-6267-42bf-a62c-01b4c3116a70"
      },
      "execution_count": 3,
      "outputs": [
        {
          "output_type": "stream",
          "name": "stdout",
          "text": [
            "[1, 2, 3, 4]\n"
          ]
        }
      ]
    },
    {
      "cell_type": "code",
      "source": [
        "arrl = np.array([1,2,3,4])"
      ],
      "metadata": {
        "id": "cNQJ3PxmEy_d"
      },
      "execution_count": 4,
      "outputs": []
    },
    {
      "cell_type": "code",
      "source": [
        "print(arrl)"
      ],
      "metadata": {
        "colab": {
          "base_uri": "https://localhost:8080/"
        },
        "id": "iyBlPi3eFa_d",
        "outputId": "2ffca689-fec0-4bd4-a776-ad446e18c675"
      },
      "execution_count": 5,
      "outputs": [
        {
          "output_type": "stream",
          "name": "stdout",
          "text": [
            "[1 2 3 4]\n"
          ]
        }
      ]
    },
    {
      "cell_type": "markdown",
      "source": [
        "check the data type of the data."
      ],
      "metadata": {
        "id": "ioq5VGa0FmlQ"
      }
    },
    {
      "cell_type": "code",
      "source": [
        "type(roll_no)"
      ],
      "metadata": {
        "colab": {
          "base_uri": "https://localhost:8080/"
        },
        "id": "UX8sLkOFFiWw",
        "outputId": "a65819b2-55cc-457b-ce20-80791b9995f4"
      },
      "execution_count": 6,
      "outputs": [
        {
          "output_type": "execute_result",
          "data": {
            "text/plain": [
              "list"
            ]
          },
          "metadata": {},
          "execution_count": 6
        }
      ]
    },
    {
      "cell_type": "code",
      "source": [
        "type(arrl)"
      ],
      "metadata": {
        "colab": {
          "base_uri": "https://localhost:8080/"
        },
        "id": "JAUaiCR-FstX",
        "outputId": "109d4a10-5f48-4dfe-eae3-febce260a748"
      },
      "execution_count": 7,
      "outputs": [
        {
          "output_type": "execute_result",
          "data": {
            "text/plain": [
              "numpy.ndarray"
            ]
          },
          "metadata": {},
          "execution_count": 7
        }
      ]
    },
    {
      "cell_type": "markdown",
      "source": [
        "Multiply, you will get list repeated"
      ],
      "metadata": {
        "id": "W-hSGyW0GS9h"
      }
    },
    {
      "cell_type": "code",
      "source": [
        "roll_no * 3"
      ],
      "metadata": {
        "colab": {
          "base_uri": "https://localhost:8080/"
        },
        "id": "sGZHQAt6Fykt",
        "outputId": "941ae6d7-6b98-4c74-e658-a0f18b67bcd3"
      },
      "execution_count": 8,
      "outputs": [
        {
          "output_type": "execute_result",
          "data": {
            "text/plain": [
              "[1, 2, 3, 4, 1, 2, 3, 4, 1, 2, 3, 4]"
            ]
          },
          "metadata": {},
          "execution_count": 8
        }
      ]
    },
    {
      "cell_type": "markdown",
      "source": [
        "Multiplication for array you will get an each multiplied "
      ],
      "metadata": {
        "id": "OHgPOChlGgI2"
      }
    },
    {
      "cell_type": "code",
      "source": [
        "arrl * 3"
      ],
      "metadata": {
        "colab": {
          "base_uri": "https://localhost:8080/"
        },
        "id": "rpic1QpdGRq4",
        "outputId": "c7d2e29c-b6fe-43ee-d239-319882620e92"
      },
      "execution_count": 9,
      "outputs": [
        {
          "output_type": "execute_result",
          "data": {
            "text/plain": [
              "array([ 3,  6,  9, 12])"
            ]
          },
          "metadata": {},
          "execution_count": 9
        }
      ]
    },
    {
      "cell_type": "markdown",
      "source": [
        "Adding number to array"
      ],
      "metadata": {
        "id": "roUuM9UkarQN"
      }
    },
    {
      "cell_type": "code",
      "source": [
        "arrl + 10"
      ],
      "metadata": {
        "colab": {
          "base_uri": "https://localhost:8080/"
        },
        "id": "e1l0sSdHGfHt",
        "outputId": "3349b394-6213-4345-be11-8d2b8d967968"
      },
      "execution_count": 10,
      "outputs": [
        {
          "output_type": "execute_result",
          "data": {
            "text/plain": [
              "array([11, 12, 13, 14])"
            ]
          },
          "metadata": {},
          "execution_count": 10
        }
      ]
    },
    {
      "cell_type": "markdown",
      "source": [
        "Dimensions of the array"
      ],
      "metadata": {
        "id": "wUxWDk71HGjv"
      }
    },
    {
      "cell_type": "code",
      "source": [
        "arrl.ndim"
      ],
      "metadata": {
        "colab": {
          "base_uri": "https://localhost:8080/"
        },
        "id": "Df0RDcvcG6CF",
        "outputId": "a8c58d1f-e0fb-43ac-d831-c04b8054ebda"
      },
      "execution_count": 11,
      "outputs": [
        {
          "output_type": "execute_result",
          "data": {
            "text/plain": [
              "1"
            ]
          },
          "metadata": {},
          "execution_count": 11
        }
      ]
    },
    {
      "cell_type": "markdown",
      "source": [
        "4 Items in it, with one dimension"
      ],
      "metadata": {
        "id": "8wt8uVHVHqdT"
      }
    },
    {
      "cell_type": "code",
      "source": [
        "arrl.shape"
      ],
      "metadata": {
        "colab": {
          "base_uri": "https://localhost:8080/"
        },
        "id": "nmw9S3vIHO4Q",
        "outputId": "3ba522b8-7067-47a1-f1ee-47a32e7816a0"
      },
      "execution_count": 12,
      "outputs": [
        {
          "output_type": "execute_result",
          "data": {
            "text/plain": [
              "(4,)"
            ]
          },
          "metadata": {},
          "execution_count": 12
        }
      ]
    },
    {
      "cell_type": "markdown",
      "source": [
        "second array, 2dim array"
      ],
      "metadata": {
        "id": "1tWtHjA1H1b9"
      }
    },
    {
      "cell_type": "code",
      "source": [
        "arr2 = np.array([[1,2], [3,4]])\n",
        "arr2"
      ],
      "metadata": {
        "colab": {
          "base_uri": "https://localhost:8080/"
        },
        "id": "bDTMPm77HgZe",
        "outputId": "e6d07bcc-9c7c-4adb-d795-c598c3d830df"
      },
      "execution_count": 13,
      "outputs": [
        {
          "output_type": "execute_result",
          "data": {
            "text/plain": [
              "array([[1, 2],\n",
              "       [3, 4]])"
            ]
          },
          "metadata": {},
          "execution_count": 13
        }
      ]
    },
    {
      "cell_type": "code",
      "source": [
        "arr2.ndim"
      ],
      "metadata": {
        "colab": {
          "base_uri": "https://localhost:8080/"
        },
        "id": "IBvaZ2ssH9ea",
        "outputId": "fde11978-583f-427b-c573-7a63fc167ec9"
      },
      "execution_count": 14,
      "outputs": [
        {
          "output_type": "execute_result",
          "data": {
            "text/plain": [
              "2"
            ]
          },
          "metadata": {},
          "execution_count": 14
        }
      ]
    },
    {
      "cell_type": "code",
      "source": [
        "arr2.shape"
      ],
      "metadata": {
        "colab": {
          "base_uri": "https://localhost:8080/"
        },
        "id": "UPPJ8TttIWsS",
        "outputId": "28c6842d-c4cf-49b2-d22f-c7494498c459"
      },
      "execution_count": 15,
      "outputs": [
        {
          "output_type": "execute_result",
          "data": {
            "text/plain": [
              "(2, 2)"
            ]
          },
          "metadata": {},
          "execution_count": 15
        }
      ]
    },
    {
      "cell_type": "markdown",
      "source": [
        "Arrange Function"
      ],
      "metadata": {
        "id": "hThEHpkPI-gx"
      }
    },
    {
      "cell_type": "code",
      "source": [
        "arr2 = np.arange(1,21)\n",
        "arr2"
      ],
      "metadata": {
        "colab": {
          "base_uri": "https://localhost:8080/"
        },
        "id": "D0ioSloKIcc6",
        "outputId": "3749bd2b-b6b9-4637-a050-20a5c73c9264"
      },
      "execution_count": 16,
      "outputs": [
        {
          "output_type": "execute_result",
          "data": {
            "text/plain": [
              "array([ 1,  2,  3,  4,  5,  6,  7,  8,  9, 10, 11, 12, 13, 14, 15, 16, 17,\n",
              "       18, 19, 20])"
            ]
          },
          "metadata": {},
          "execution_count": 16
        }
      ]
    },
    {
      "cell_type": "code",
      "source": [
        "arr3 = np.arange(20, 38, 2)\n",
        "arr3"
      ],
      "metadata": {
        "colab": {
          "base_uri": "https://localhost:8080/"
        },
        "id": "_5gQuA0qJHNk",
        "outputId": "dc76df97-e983-4309-fd90-1949957f5757"
      },
      "execution_count": 17,
      "outputs": [
        {
          "output_type": "execute_result",
          "data": {
            "text/plain": [
              "array([20, 22, 24, 26, 28, 30, 32, 34, 36])"
            ]
          },
          "metadata": {},
          "execution_count": 17
        }
      ]
    },
    {
      "cell_type": "markdown",
      "source": [
        "Indexing "
      ],
      "metadata": {
        "id": "uO8hea0SJ9jZ"
      }
    },
    {
      "cell_type": "code",
      "source": [
        "arr3[4]"
      ],
      "metadata": {
        "colab": {
          "base_uri": "https://localhost:8080/"
        },
        "id": "kEsvK8M9JpwX",
        "outputId": "f78c2efc-ed19-4d9c-f352-da364dd65a9a"
      },
      "execution_count": 18,
      "outputs": [
        {
          "output_type": "execute_result",
          "data": {
            "text/plain": [
              "28"
            ]
          },
          "metadata": {},
          "execution_count": 18
        }
      ]
    },
    {
      "cell_type": "markdown",
      "source": [
        "Value at last position\n",
        "\n",
        "you can access the last element using the last number if you know the count. This is not the best case if you have large datasets "
      ],
      "metadata": {
        "id": "EQO3yRdjKvdJ"
      }
    },
    {
      "cell_type": "code",
      "source": [
        "# if you know the values\n",
        "arr3[8]"
      ],
      "metadata": {
        "colab": {
          "base_uri": "https://localhost:8080/"
        },
        "id": "QSepF0wGKbtK",
        "outputId": "b8ee7dbc-4b72-4e07-f2e9-c8448ca24532"
      },
      "execution_count": 19,
      "outputs": [
        {
          "output_type": "execute_result",
          "data": {
            "text/plain": [
              "36"
            ]
          },
          "metadata": {},
          "execution_count": 19
        }
      ]
    },
    {
      "cell_type": "markdown",
      "source": [
        "Accessing the last index using the best way, down below."
      ],
      "metadata": {
        "id": "bJf27e9WH1Dv"
      }
    },
    {
      "cell_type": "code",
      "source": [
        "# nagative indexing\n",
        "arr3[-1]"
      ],
      "metadata": {
        "colab": {
          "base_uri": "https://localhost:8080/"
        },
        "id": "cgU75eChK2cK",
        "outputId": "8a625a0e-c88e-4ce2-a79f-d2034b497126"
      },
      "execution_count": 20,
      "outputs": [
        {
          "output_type": "execute_result",
          "data": {
            "text/plain": [
              "36"
            ]
          },
          "metadata": {},
          "execution_count": 20
        }
      ]
    },
    {
      "cell_type": "markdown",
      "source": [
        "If you try to access the 9th element you can an error. ☹ "
      ],
      "metadata": {
        "id": "V_tYuNuvHfpI"
      }
    },
    {
      "cell_type": "code",
      "source": [
        "arr3[9]"
      ],
      "metadata": {
        "colab": {
          "base_uri": "https://localhost:8080/",
          "height": 165
        },
        "id": "y9wmeeaLLCM2",
        "outputId": "423b9bdf-2bc9-4dc7-ee07-a446de6503bf"
      },
      "execution_count": 21,
      "outputs": [
        {
          "output_type": "error",
          "ename": "IndexError",
          "evalue": "ignored",
          "traceback": [
            "\u001b[0;31m---------------------------------------------------------------------------\u001b[0m",
            "\u001b[0;31mIndexError\u001b[0m                                Traceback (most recent call last)",
            "\u001b[0;32m<ipython-input-21-5f73025e44ae>\u001b[0m in \u001b[0;36m<cell line: 1>\u001b[0;34m()\u001b[0m\n\u001b[0;32m----> 1\u001b[0;31m \u001b[0marr3\u001b[0m\u001b[0;34m[\u001b[0m\u001b[0;36m9\u001b[0m\u001b[0;34m]\u001b[0m\u001b[0;34m\u001b[0m\u001b[0;34m\u001b[0m\u001b[0m\n\u001b[0m",
            "\u001b[0;31mIndexError\u001b[0m: index 9 is out of bounds for axis 0 with size 9"
          ]
        }
      ]
    },
    {
      "cell_type": "code",
      "source": [
        "m1 = np.arange(20, 38, 2)\n",
        "m1"
      ],
      "metadata": {
        "id": "6Iefcj3yj9WU",
        "colab": {
          "base_uri": "https://localhost:8080/"
        },
        "outputId": "23103df0-10ce-4585-c9d2-58bac71d9f1c"
      },
      "execution_count": 22,
      "outputs": [
        {
          "output_type": "execute_result",
          "data": {
            "text/plain": [
              "array([20, 22, 24, 26, 28, 30, 32, 34, 36])"
            ]
          },
          "metadata": {},
          "execution_count": 22
        }
      ]
    },
    {
      "cell_type": "code",
      "source": [
        "# getting the 1st/ or 0th element \n",
        "m1[0]"
      ],
      "metadata": {
        "colab": {
          "base_uri": "https://localhost:8080/"
        },
        "id": "KexjjO_bJTVt",
        "outputId": "cfdb70a7-fd31-4d50-b9b4-72b5aadcc5bf"
      },
      "execution_count": 23,
      "outputs": [
        {
          "output_type": "execute_result",
          "data": {
            "text/plain": [
              "20"
            ]
          },
          "metadata": {},
          "execution_count": 23
        }
      ]
    },
    {
      "cell_type": "code",
      "source": [
        "m1[7]"
      ],
      "metadata": {
        "colab": {
          "base_uri": "https://localhost:8080/"
        },
        "id": "cUvffLD5JrSs",
        "outputId": "1e46fa3e-55c6-4fe3-d19b-e85e8714cfb8"
      },
      "execution_count": 24,
      "outputs": [
        {
          "output_type": "execute_result",
          "data": {
            "text/plain": [
              "34"
            ]
          },
          "metadata": {},
          "execution_count": 24
        }
      ]
    },
    {
      "cell_type": "code",
      "source": [
        "# negative indexing\n",
        "m1[-2]"
      ],
      "metadata": {
        "colab": {
          "base_uri": "https://localhost:8080/"
        },
        "id": "nrls_I_mJ6jF",
        "outputId": "4fe613ed-475c-45a3-db7b-f7f5d825a3bf"
      },
      "execution_count": 25,
      "outputs": [
        {
          "output_type": "execute_result",
          "data": {
            "text/plain": [
              "34"
            ]
          },
          "metadata": {},
          "execution_count": 25
        }
      ]
    },
    {
      "cell_type": "code",
      "source": [
        "m1"
      ],
      "metadata": {
        "colab": {
          "base_uri": "https://localhost:8080/"
        },
        "id": "PaBx4O6TKFhz",
        "outputId": "fb7fcf16-6be8-4833-bc0c-3bf6a7169455"
      },
      "execution_count": 26,
      "outputs": [
        {
          "output_type": "execute_result",
          "data": {
            "text/plain": [
              "array([20, 22, 24, 26, 28, 30, 32, 34, 36])"
            ]
          },
          "metadata": {},
          "execution_count": 26
        }
      ]
    },
    {
      "cell_type": "code",
      "source": [
        "#slicing \n",
        "# m1[start_idex : end_indx]  it doesn't inclued the last element.\n",
        "\n",
        "m1[1:4]"
      ],
      "metadata": {
        "colab": {
          "base_uri": "https://localhost:8080/"
        },
        "id": "6Duixl-iKkb5",
        "outputId": "ac3baeb2-7c59-449b-ae54-30b529cd745e"
      },
      "execution_count": 27,
      "outputs": [
        {
          "output_type": "execute_result",
          "data": {
            "text/plain": [
              "array([22, 24, 26])"
            ]
          },
          "metadata": {},
          "execution_count": 27
        }
      ]
    },
    {
      "cell_type": "code",
      "source": [
        "m1[ 4 : 8 ]"
      ],
      "metadata": {
        "colab": {
          "base_uri": "https://localhost:8080/"
        },
        "id": "u32F-0X9LkbB",
        "outputId": "a8626d46-1af5-4a09-e7b3-28b434c31b3f"
      },
      "execution_count": 28,
      "outputs": [
        {
          "output_type": "execute_result",
          "data": {
            "text/plain": [
              "array([28, 30, 32, 34])"
            ]
          },
          "metadata": {},
          "execution_count": 28
        }
      ]
    },
    {
      "cell_type": "markdown",
      "source": [
        "With the negative indexing, the last item starts at -1 coming to the left"
      ],
      "metadata": {
        "id": "sRfhRsMkMGCB"
      }
    },
    {
      "cell_type": "code",
      "source": [
        "m1[ -5 : -1 ]"
      ],
      "metadata": {
        "colab": {
          "base_uri": "https://localhost:8080/"
        },
        "id": "9xkmisaTLzRD",
        "outputId": "9ee7ce29-5e7a-41f9-9522-ba0838a9644a"
      },
      "execution_count": 29,
      "outputs": [
        {
          "output_type": "execute_result",
          "data": {
            "text/plain": [
              "array([28, 30, 32, 34])"
            ]
          },
          "metadata": {},
          "execution_count": 29
        }
      ]
    },
    {
      "cell_type": "code",
      "source": [
        "# Fancy Indexing"
      ],
      "metadata": {
        "id": "XrwSz0p8MBT_"
      },
      "execution_count": 30,
      "outputs": []
    },
    {
      "cell_type": "markdown",
      "source": [
        "We're checking if the elements inside m1 are less than 30, it returns true if it below else false."
      ],
      "metadata": {
        "id": "A2218vyvMmvY"
      }
    },
    {
      "cell_type": "code",
      "source": [
        "mask = m1 < 30\n",
        "mask"
      ],
      "metadata": {
        "colab": {
          "base_uri": "https://localhost:8080/"
        },
        "id": "WERi062FMWH5",
        "outputId": "ec47d556-2e83-40e0-d96c-51f52b906f4d"
      },
      "execution_count": 31,
      "outputs": [
        {
          "output_type": "execute_result",
          "data": {
            "text/plain": [
              "array([ True,  True,  True,  True,  True, False, False, False, False])"
            ]
          },
          "metadata": {},
          "execution_count": 31
        }
      ]
    },
    {
      "cell_type": "markdown",
      "source": [
        "`m1[mask]` is a way to access certain elements of a NumPy array `m1`. The `mask` is a boolean array of the same shape as `m1`, used to index or filter out certain elements of `m1`\n",
        "\n",
        "`m1[mask]` will return a new NumPy array of elements from `m1` where the corresponding element in `mask` is `True`"
      ],
      "metadata": {
        "id": "sHVzZ2GNkO4r"
      }
    },
    {
      "cell_type": "code",
      "source": [
        "m1[mask]"
      ],
      "metadata": {
        "colab": {
          "base_uri": "https://localhost:8080/"
        },
        "id": "c0WZ58yBMePl",
        "outputId": "c287a6c2-5bda-46fd-a96f-7b871bc3048d"
      },
      "execution_count": 32,
      "outputs": [
        {
          "output_type": "execute_result",
          "data": {
            "text/plain": [
              "array([20, 22, 24, 26, 28])"
            ]
          },
          "metadata": {},
          "execution_count": 32
        }
      ]
    },
    {
      "cell_type": "code",
      "source": [
        "type(m1)"
      ],
      "metadata": {
        "colab": {
          "base_uri": "https://localhost:8080/"
        },
        "id": "tO1XlAGYloqT",
        "outputId": "8e20a80f-a727-4850-b1b0-adae67a8f841"
      },
      "execution_count": 33,
      "outputs": [
        {
          "output_type": "execute_result",
          "data": {
            "text/plain": [
              "numpy.ndarray"
            ]
          },
          "metadata": {},
          "execution_count": 33
        }
      ]
    },
    {
      "cell_type": "markdown",
      "source": [
        "the same can be done this way"
      ],
      "metadata": {
        "id": "cbZssQ2vkutm"
      }
    },
    {
      "cell_type": "code",
      "source": [
        "m1[ m1 < 30 ]"
      ],
      "metadata": {
        "colab": {
          "base_uri": "https://localhost:8080/"
        },
        "id": "5PwITTiOki3k",
        "outputId": "2f341b76-fb87-487a-9502-2f785c054c55"
      },
      "execution_count": 34,
      "outputs": [
        {
          "output_type": "execute_result",
          "data": {
            "text/plain": [
              "array([20, 22, 24, 26, 28])"
            ]
          },
          "metadata": {},
          "execution_count": 34
        }
      ]
    },
    {
      "cell_type": "markdown",
      "source": [
        "Down below, `m1` is an array variable. `m1%2==0` checks if the elements of the list m1 are even or not. If the element is even (leaves no remainder when divided by 2), then the condition becomes `True`. Otherwise, the condition becomes `False`.\n",
        "\n",
        "Using square brackets [ ], we apply this condition as a filter on the list m1. It only keeps the numbers that fulfill the condition (i.e., the even numbers), and returns a new list containing only the `even numbers` from the original list m1."
      ],
      "metadata": {
        "id": "5FQlNV2hlf_B"
      }
    },
    {
      "cell_type": "code",
      "source": [
        "m1[ m1%2 == 0 ]"
      ],
      "metadata": {
        "colab": {
          "base_uri": "https://localhost:8080/"
        },
        "id": "UjpK-IpMk9rE",
        "outputId": "cb1c15ab-ffaf-47a7-a241-d29c929f5fa0"
      },
      "execution_count": 35,
      "outputs": [
        {
          "output_type": "execute_result",
          "data": {
            "text/plain": [
              "array([20, 22, 24, 26, 28, 30, 32, 34, 36])"
            ]
          },
          "metadata": {},
          "execution_count": 35
        }
      ]
    },
    {
      "cell_type": "markdown",
      "source": [
        "This code creates two one-dimensional numpy arrays- `a` and `b`, with values `[1,3,5]` and `[2,1,1]` respectively. These arrays can be used to perform mathematical operations like addition, subtraction, multiplication, etc. on them."
      ],
      "metadata": {
        "id": "spy5FdGjmsZg"
      }
    },
    {
      "cell_type": "code",
      "source": [
        "a = np.array([1,3,5])\n",
        "b = np.array([2,1,1])\n",
        "\n",
        "print(a)\n",
        "print(b)"
      ],
      "metadata": {
        "colab": {
          "base_uri": "https://localhost:8080/"
        },
        "id": "Bj65S9xJmOvW",
        "outputId": "c77f56e3-0804-4039-f99c-21660351adfb"
      },
      "execution_count": 36,
      "outputs": [
        {
          "output_type": "stream",
          "name": "stdout",
          "text": [
            "[1 3 5]\n",
            "[2 1 1]\n"
          ]
        }
      ]
    },
    {
      "cell_type": "markdown",
      "source": [
        "Adding the two arrays"
      ],
      "metadata": {
        "id": "SaORhzDOn1sb"
      }
    },
    {
      "cell_type": "code",
      "source": [
        "a + b"
      ],
      "metadata": {
        "colab": {
          "base_uri": "https://localhost:8080/"
        },
        "id": "rlXO7Rylm2nL",
        "outputId": "214c02cb-5127-428b-a949-f99f429b222c"
      },
      "execution_count": 37,
      "outputs": [
        {
          "output_type": "execute_result",
          "data": {
            "text/plain": [
              "array([3, 4, 6])"
            ]
          },
          "metadata": {},
          "execution_count": 37
        }
      ]
    },
    {
      "cell_type": "markdown",
      "source": [
        "finding the smallest value in `a`"
      ],
      "metadata": {
        "id": "L0OjG1Tun-i1"
      }
    },
    {
      "cell_type": "code",
      "source": [
        "np.min(a)"
      ],
      "metadata": {
        "colab": {
          "base_uri": "https://localhost:8080/"
        },
        "id": "y_b71s9-n7qK",
        "outputId": "9c378261-6fd9-4144-b3cb-703775b3cacf"
      },
      "execution_count": 38,
      "outputs": [
        {
          "output_type": "execute_result",
          "data": {
            "text/plain": [
              "1"
            ]
          },
          "metadata": {},
          "execution_count": 38
        }
      ]
    },
    {
      "cell_type": "markdown",
      "source": [
        "Maximum value in `b`"
      ],
      "metadata": {
        "id": "Rl5jz3pKoNpU"
      }
    },
    {
      "cell_type": "code",
      "source": [
        "np.max(b)"
      ],
      "metadata": {
        "colab": {
          "base_uri": "https://localhost:8080/"
        },
        "id": "IabMo475oINU",
        "outputId": "beac04c9-a74c-4144-a238-a4ad48ad8434"
      },
      "execution_count": 39,
      "outputs": [
        {
          "output_type": "execute_result",
          "data": {
            "text/plain": [
              "2"
            ]
          },
          "metadata": {},
          "execution_count": 39
        }
      ]
    },
    {
      "cell_type": "markdown",
      "source": [
        "The average of `a`"
      ],
      "metadata": {
        "id": "hvNvR65BoSB7"
      }
    },
    {
      "cell_type": "code",
      "source": [
        "np.average(a)"
      ],
      "metadata": {
        "colab": {
          "base_uri": "https://localhost:8080/"
        },
        "id": "FEauObzHoMSH",
        "outputId": "662522c1-1621-4190-fcf0-493643dd5cff"
      },
      "execution_count": 40,
      "outputs": [
        {
          "output_type": "execute_result",
          "data": {
            "text/plain": [
              "3.0"
            ]
          },
          "metadata": {},
          "execution_count": 40
        }
      ]
    },
    {
      "cell_type": "markdown",
      "source": [
        "#Use Case - Net Provider Score (NPS)\n",
        "\n",
        "![image.png](data:image/png;base64,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)"
      ],
      "metadata": {
        "id": "V1KQ7bbcayRh"
      }
    },
    {
      "cell_type": "code",
      "source": [
        "scores = np.loadtxt('survey.txt', dtype='int')\n",
        "scores"
      ],
      "metadata": {
        "colab": {
          "base_uri": "https://localhost:8080/"
        },
        "id": "BWdtagdvc4f5",
        "outputId": "104ca5a3-e054-4149-cb5e-6b60d895a058"
      },
      "execution_count": 73,
      "outputs": [
        {
          "output_type": "execute_result",
          "data": {
            "text/plain": [
              "array([ 7, 10,  5, ...,  5,  9, 10])"
            ]
          },
          "metadata": {},
          "execution_count": 73
        }
      ]
    },
    {
      "cell_type": "markdown",
      "source": [
        "To check the shape of the scores"
      ],
      "metadata": {
        "id": "xmU6-3cHda6w"
      }
    },
    {
      "cell_type": "code",
      "source": [
        "scores.shape"
      ],
      "metadata": {
        "colab": {
          "base_uri": "https://localhost:8080/"
        },
        "id": "h4uvaGjNdN3d",
        "outputId": "b9deff1e-18f4-424e-e1a9-fb1c37f2c1a7"
      },
      "execution_count": 53,
      "outputs": [
        {
          "output_type": "execute_result",
          "data": {
            "text/plain": [
              "(1167,)"
            ]
          },
          "metadata": {},
          "execution_count": 53
        }
      ]
    },
    {
      "cell_type": "markdown",
      "source": [
        "The minimum value we use `min()`"
      ],
      "metadata": {
        "id": "DTSbT2hHdvun"
      }
    },
    {
      "cell_type": "code",
      "source": [
        "scores.min()"
      ],
      "metadata": {
        "colab": {
          "base_uri": "https://localhost:8080/"
        },
        "id": "R6d4ixtDdfvp",
        "outputId": "a426b695-90c5-4722-eb1f-30d060bb3c02"
      },
      "execution_count": 55,
      "outputs": [
        {
          "output_type": "execute_result",
          "data": {
            "text/plain": [
              "1"
            ]
          },
          "metadata": {},
          "execution_count": 55
        }
      ]
    },
    {
      "cell_type": "markdown",
      "source": [
        "Max value we use `max()`"
      ],
      "metadata": {
        "id": "VekIqNRLd1SH"
      }
    },
    {
      "cell_type": "code",
      "source": [
        "scores.max()"
      ],
      "metadata": {
        "colab": {
          "base_uri": "https://localhost:8080/"
        },
        "id": "h4lVpHqxdjqf",
        "outputId": "bd4e79f6-651d-4f8f-c5e5-d8f09678fbf7"
      },
      "execution_count": 56,
      "outputs": [
        {
          "output_type": "execute_result",
          "data": {
            "text/plain": [
              "10"
            ]
          },
          "metadata": {},
          "execution_count": 56
        }
      ]
    },
    {
      "cell_type": "markdown",
      "source": [
        "The mean of the score we use `mean()`"
      ],
      "metadata": {
        "id": "tY-OsD3Rd7G1"
      }
    },
    {
      "cell_type": "code",
      "source": [
        "scores.mean()"
      ],
      "metadata": {
        "colab": {
          "base_uri": "https://localhost:8080/"
        },
        "id": "HA6nQjOLdnlL",
        "outputId": "fda162c4-8505-409f-a894-f664322b88fb"
      },
      "execution_count": 57,
      "outputs": [
        {
          "output_type": "execute_result",
          "data": {
            "text/plain": [
              "7.250214224507284"
            ]
          },
          "metadata": {},
          "execution_count": 57
        }
      ]
    },
    {
      "cell_type": "code",
      "source": [
        "# lets then define detractors and check how we can calculate it. "
      ],
      "metadata": {
        "id": "2AITUvtpdq_9"
      },
      "execution_count": 66,
      "outputs": []
    },
    {
      "cell_type": "markdown",
      "source": [
        "`Detractors` they're customers who rate a business, product or service with a score of 0-6 on the Net Promoter Score (NPS) scale. They are typically `unsatisfied customers` who may have had `a negative experience with a business or product`, and are more likely to share their negative feedback with others."
      ],
      "metadata": {
        "id": "jZqmbPRlejOH"
      }
    },
    {
      "cell_type": "markdown",
      "source": [
        "Lets check how many detractors we have."
      ],
      "metadata": {
        "id": "pmr89fTlfJb8"
      }
    },
    {
      "cell_type": "code",
      "source": [
        "detractors = scores[(scores < 7 )] \n",
        "len(detractors)"
      ],
      "metadata": {
        "colab": {
          "base_uri": "https://localhost:8080/"
        },
        "id": "y4LtMq_0eg4-",
        "outputId": "a3b74dac-5195-4a25-8be5-6b707621d38b"
      },
      "execution_count": 62,
      "outputs": [
        {
          "output_type": "execute_result",
          "data": {
            "text/plain": [
              "332"
            ]
          },
          "metadata": {},
          "execution_count": 62
        }
      ]
    },
    {
      "cell_type": "markdown",
      "source": [
        "`Promoters` are customers who rate with a score of `9-10`"
      ],
      "metadata": {
        "id": "mWFucQ08fxUu"
      }
    },
    {
      "cell_type": "code",
      "source": [
        "promoters = scores[( scores > 8 )]\n",
        "len(promoters)"
      ],
      "metadata": {
        "colab": {
          "base_uri": "https://localhost:8080/"
        },
        "id": "a9hPyeSJfTtI",
        "outputId": "c8cd32a0-a46e-4ea7-ee96-e18cd4d1f403"
      },
      "execution_count": 65,
      "outputs": [
        {
          "output_type": "execute_result",
          "data": {
            "text/plain": [
              "609"
            ]
          },
          "metadata": {},
          "execution_count": 65
        }
      ]
    },
    {
      "cell_type": "markdown",
      "source": [
        "Calculating the NPS using the formulae above"
      ],
      "metadata": {
        "id": "fC8oxAxSinH5"
      }
    },
    {
      "cell_type": "code",
      "source": [
        "nps = 100 * ( len(promoters) - len(detractors)) / len(scores)\n",
        "nps"
      ],
      "metadata": {
        "colab": {
          "base_uri": "https://localhost:8080/"
        },
        "id": "WvPzordxgE7e",
        "outputId": "c184f24e-cf50-4855-fbd4-5603542432fd"
      },
      "execution_count": 70,
      "outputs": [
        {
          "output_type": "execute_result",
          "data": {
            "text/plain": [
              "23.736075407026565"
            ]
          },
          "metadata": {},
          "execution_count": 70
        }
      ]
    },
    {
      "cell_type": "code",
      "source": [
        "round(nps)"
      ],
      "metadata": {
        "colab": {
          "base_uri": "https://localhost:8080/"
        },
        "id": "OshWxDBhiDMM",
        "outputId": "3ee5aadb-e401-45e1-bbe5-d2f85d8487b1"
      },
      "execution_count": 71,
      "outputs": [
        {
          "output_type": "execute_result",
          "data": {
            "text/plain": [
              "24"
            ]
          },
          "metadata": {},
          "execution_count": 71
        }
      ]
    },
    {
      "cell_type": "code",
      "source": [],
      "metadata": {
        "id": "oBdVYo4Ji10n"
      },
      "execution_count": null,
      "outputs": []
    },
    {
      "cell_type": "markdown",
      "source": [
        "# Pandas\n",
        "Pandas is an `open-source library` for data manipulation and analysis in Python. It is designed to handle and organize large amounts of data in a way that is easy to work with. It provides powerful tools for data cleaning, wrangling, and visualization, making it a popular choice for data scientists and analysts."
      ],
      "metadata": {
        "id": "paobv6uNjE8q"
      }
    },
    {
      "cell_type": "code",
      "source": [
        "import pandas as pd"
      ],
      "metadata": {
        "id": "1FzDEdGYjAWw"
      },
      "execution_count": 72,
      "outputs": []
    },
    {
      "cell_type": "code",
      "source": [
        "# data = \"/content/data-analyticspracticedata.csv\"\n",
        "\n",
        "df = pd.read_csv(\"data-analyticspracticedata.csv\")\n",
        "df.head()"
      ],
      "metadata": {
        "colab": {
          "base_uri": "https://localhost:8080/",
          "height": 206
        },
        "id": "Z-4nIQs5jDuB",
        "outputId": "e375c088-f569-42c7-8311-acafcf81fa03"
      },
      "execution_count": 83,
      "outputs": [
        {
          "output_type": "execute_result",
          "data": {
            "text/plain": [
              "       country  year  population continent  life_exp     gdp_cap\n",
              "0  Afghanistan  1952     8425333      Asia    28.801  779.445314\n",
              "1  Afghanistan  1957     9240934      Asia    30.332  820.853030\n",
              "2  Afghanistan  1962    10267083      Asia    31.997  853.100710\n",
              "3  Afghanistan  1967    11537966      Asia    34.020  836.197138\n",
              "4  Afghanistan  1972    13079460      Asia    36.088  739.981106"
            ],
            "text/html": [
              "\n",
              "  <div id=\"df-30222ca9-6e49-42c8-9334-e67e87f4acad\">\n",
              "    <div class=\"colab-df-container\">\n",
              "      <div>\n",
              "<style scoped>\n",
              "    .dataframe tbody tr th:only-of-type {\n",
              "        vertical-align: middle;\n",
              "    }\n",
              "\n",
              "    .dataframe tbody tr th {\n",
              "        vertical-align: top;\n",
              "    }\n",
              "\n",
              "    .dataframe thead th {\n",
              "        text-align: right;\n",
              "    }\n",
              "</style>\n",
              "<table border=\"1\" class=\"dataframe\">\n",
              "  <thead>\n",
              "    <tr style=\"text-align: right;\">\n",
              "      <th></th>\n",
              "      <th>country</th>\n",
              "      <th>year</th>\n",
              "      <th>population</th>\n",
              "      <th>continent</th>\n",
              "      <th>life_exp</th>\n",
              "      <th>gdp_cap</th>\n",
              "    </tr>\n",
              "  </thead>\n",
              "  <tbody>\n",
              "    <tr>\n",
              "      <th>0</th>\n",
              "      <td>Afghanistan</td>\n",
              "      <td>1952</td>\n",
              "      <td>8425333</td>\n",
              "      <td>Asia</td>\n",
              "      <td>28.801</td>\n",
              "      <td>779.445314</td>\n",
              "    </tr>\n",
              "    <tr>\n",
              "      <th>1</th>\n",
              "      <td>Afghanistan</td>\n",
              "      <td>1957</td>\n",
              "      <td>9240934</td>\n",
              "      <td>Asia</td>\n",
              "      <td>30.332</td>\n",
              "      <td>820.853030</td>\n",
              "    </tr>\n",
              "    <tr>\n",
              "      <th>2</th>\n",
              "      <td>Afghanistan</td>\n",
              "      <td>1962</td>\n",
              "      <td>10267083</td>\n",
              "      <td>Asia</td>\n",
              "      <td>31.997</td>\n",
              "      <td>853.100710</td>\n",
              "    </tr>\n",
              "    <tr>\n",
              "      <th>3</th>\n",
              "      <td>Afghanistan</td>\n",
              "      <td>1967</td>\n",
              "      <td>11537966</td>\n",
              "      <td>Asia</td>\n",
              "      <td>34.020</td>\n",
              "      <td>836.197138</td>\n",
              "    </tr>\n",
              "    <tr>\n",
              "      <th>4</th>\n",
              "      <td>Afghanistan</td>\n",
              "      <td>1972</td>\n",
              "      <td>13079460</td>\n",
              "      <td>Asia</td>\n",
              "      <td>36.088</td>\n",
              "      <td>739.981106</td>\n",
              "    </tr>\n",
              "  </tbody>\n",
              "</table>\n",
              "</div>\n",
              "      <button class=\"colab-df-convert\" onclick=\"convertToInteractive('df-30222ca9-6e49-42c8-9334-e67e87f4acad')\"\n",
              "              title=\"Convert this dataframe to an interactive table.\"\n",
              "              style=\"display:none;\">\n",
              "        \n",
              "  <svg xmlns=\"http://www.w3.org/2000/svg\" height=\"24px\"viewBox=\"0 0 24 24\"\n",
              "       width=\"24px\">\n",
              "    <path d=\"M0 0h24v24H0V0z\" fill=\"none\"/>\n",
              "    <path d=\"M18.56 5.44l.94 2.06.94-2.06 2.06-.94-2.06-.94-.94-2.06-.94 2.06-2.06.94zm-11 1L8.5 8.5l.94-2.06 2.06-.94-2.06-.94L8.5 2.5l-.94 2.06-2.06.94zm10 10l.94 2.06.94-2.06 2.06-.94-2.06-.94-.94-2.06-.94 2.06-2.06.94z\"/><path d=\"M17.41 7.96l-1.37-1.37c-.4-.4-.92-.59-1.43-.59-.52 0-1.04.2-1.43.59L10.3 9.45l-7.72 7.72c-.78.78-.78 2.05 0 2.83L4 21.41c.39.39.9.59 1.41.59.51 0 1.02-.2 1.41-.59l7.78-7.78 2.81-2.81c.8-.78.8-2.07 0-2.86zM5.41 20L4 18.59l7.72-7.72 1.47 1.35L5.41 20z\"/>\n",
              "  </svg>\n",
              "      </button>\n",
              "      \n",
              "  <style>\n",
              "    .colab-df-container {\n",
              "      display:flex;\n",
              "      flex-wrap:wrap;\n",
              "      gap: 12px;\n",
              "    }\n",
              "\n",
              "    .colab-df-convert {\n",
              "      background-color: #E8F0FE;\n",
              "      border: none;\n",
              "      border-radius: 50%;\n",
              "      cursor: pointer;\n",
              "      display: none;\n",
              "      fill: #1967D2;\n",
              "      height: 32px;\n",
              "      padding: 0 0 0 0;\n",
              "      width: 32px;\n",
              "    }\n",
              "\n",
              "    .colab-df-convert:hover {\n",
              "      background-color: #E2EBFA;\n",
              "      box-shadow: 0px 1px 2px rgba(60, 64, 67, 0.3), 0px 1px 3px 1px rgba(60, 64, 67, 0.15);\n",
              "      fill: #174EA6;\n",
              "    }\n",
              "\n",
              "    [theme=dark] .colab-df-convert {\n",
              "      background-color: #3B4455;\n",
              "      fill: #D2E3FC;\n",
              "    }\n",
              "\n",
              "    [theme=dark] .colab-df-convert:hover {\n",
              "      background-color: #434B5C;\n",
              "      box-shadow: 0px 1px 3px 1px rgba(0, 0, 0, 0.15);\n",
              "      filter: drop-shadow(0px 1px 2px rgba(0, 0, 0, 0.3));\n",
              "      fill: #FFFFFF;\n",
              "    }\n",
              "  </style>\n",
              "\n",
              "      <script>\n",
              "        const buttonEl =\n",
              "          document.querySelector('#df-30222ca9-6e49-42c8-9334-e67e87f4acad button.colab-df-convert');\n",
              "        buttonEl.style.display =\n",
              "          google.colab.kernel.accessAllowed ? 'block' : 'none';\n",
              "\n",
              "        async function convertToInteractive(key) {\n",
              "          const element = document.querySelector('#df-30222ca9-6e49-42c8-9334-e67e87f4acad');\n",
              "          const dataTable =\n",
              "            await google.colab.kernel.invokeFunction('convertToInteractive',\n",
              "                                                     [key], {});\n",
              "          if (!dataTable) return;\n",
              "\n",
              "          const docLinkHtml = 'Like what you see? Visit the ' +\n",
              "            '<a target=\"_blank\" href=https://colab.research.google.com/notebooks/data_table.ipynb>data table notebook</a>'\n",
              "            + ' to learn more about interactive tables.';\n",
              "          element.innerHTML = '';\n",
              "          dataTable['output_type'] = 'display_data';\n",
              "          await google.colab.output.renderOutput(dataTable, element);\n",
              "          const docLink = document.createElement('div');\n",
              "          docLink.innerHTML = docLinkHtml;\n",
              "          element.appendChild(docLink);\n",
              "        }\n",
              "      </script>\n",
              "    </div>\n",
              "  </div>\n",
              "  "
            ]
          },
          "metadata": {},
          "execution_count": 83
        }
      ]
    },
    {
      "cell_type": "code",
      "source": [
        "type(df)"
      ],
      "metadata": {
        "colab": {
          "base_uri": "https://localhost:8080/"
        },
        "id": "mBmoDlVNkc1-",
        "outputId": "1f574b39-603f-498e-a19a-86aff202b4d8"
      },
      "execution_count": 79,
      "outputs": [
        {
          "output_type": "execute_result",
          "data": {
            "text/plain": [
              "pandas.core.frame.DataFrame"
            ]
          },
          "metadata": {},
          "execution_count": 79
        }
      ]
    },
    {
      "cell_type": "code",
      "source": [
        "df.shape"
      ],
      "metadata": {
        "colab": {
          "base_uri": "https://localhost:8080/"
        },
        "id": "UuSrcPvCk7jC",
        "outputId": "e46adcf3-8e8f-45d4-ac3a-1ab48a1e2414"
      },
      "execution_count": 80,
      "outputs": [
        {
          "output_type": "execute_result",
          "data": {
            "text/plain": [
              "(1704, 6)"
            ]
          },
          "metadata": {},
          "execution_count": 80
        }
      ]
    },
    {
      "cell_type": "code",
      "source": [
        "df.columns"
      ],
      "metadata": {
        "colab": {
          "base_uri": "https://localhost:8080/"
        },
        "id": "xuKQVJ1ZlChz",
        "outputId": "d649dcbf-4f03-4d5c-c6b2-579b6e87d068"
      },
      "execution_count": 81,
      "outputs": [
        {
          "output_type": "execute_result",
          "data": {
            "text/plain": [
              "Index(['country', 'year', 'population', 'continent', 'life_exp', 'gdp_cap'], dtype='object')"
            ]
          },
          "metadata": {},
          "execution_count": 81
        }
      ]
    },
    {
      "cell_type": "markdown",
      "source": [
        "Printing the first 8 elements"
      ],
      "metadata": {
        "id": "7lwAoGOClWfB"
      }
    },
    {
      "cell_type": "code",
      "source": [
        "df.head(n=8)"
      ],
      "metadata": {
        "colab": {
          "base_uri": "https://localhost:8080/",
          "height": 300
        },
        "id": "s9lDfyFflJ20",
        "outputId": "7dc03c84-e6c0-4224-f087-102981340406"
      },
      "execution_count": 82,
      "outputs": [
        {
          "output_type": "execute_result",
          "data": {
            "text/plain": [
              "       country  year  population continent  life_exp     gdp_cap\n",
              "0  Afghanistan  1952     8425333      Asia    28.801  779.445314\n",
              "1  Afghanistan  1957     9240934      Asia    30.332  820.853030\n",
              "2  Afghanistan  1962    10267083      Asia    31.997  853.100710\n",
              "3  Afghanistan  1967    11537966      Asia    34.020  836.197138\n",
              "4  Afghanistan  1972    13079460      Asia    36.088  739.981106\n",
              "5  Afghanistan  1977    14880372      Asia    38.438  786.113360\n",
              "6  Afghanistan  1982    12881816      Asia    39.854  978.011439\n",
              "7  Afghanistan  1987    13867957      Asia    40.822  852.395945"
            ],
            "text/html": [
              "\n",
              "  <div id=\"df-5305584a-5c67-43e1-9b01-f44d74f9cd74\">\n",
              "    <div class=\"colab-df-container\">\n",
              "      <div>\n",
              "<style scoped>\n",
              "    .dataframe tbody tr th:only-of-type {\n",
              "        vertical-align: middle;\n",
              "    }\n",
              "\n",
              "    .dataframe tbody tr th {\n",
              "        vertical-align: top;\n",
              "    }\n",
              "\n",
              "    .dataframe thead th {\n",
              "        text-align: right;\n",
              "    }\n",
              "</style>\n",
              "<table border=\"1\" class=\"dataframe\">\n",
              "  <thead>\n",
              "    <tr style=\"text-align: right;\">\n",
              "      <th></th>\n",
              "      <th>country</th>\n",
              "      <th>year</th>\n",
              "      <th>population</th>\n",
              "      <th>continent</th>\n",
              "      <th>life_exp</th>\n",
              "      <th>gdp_cap</th>\n",
              "    </tr>\n",
              "  </thead>\n",
              "  <tbody>\n",
              "    <tr>\n",
              "      <th>0</th>\n",
              "      <td>Afghanistan</td>\n",
              "      <td>1952</td>\n",
              "      <td>8425333</td>\n",
              "      <td>Asia</td>\n",
              "      <td>28.801</td>\n",
              "      <td>779.445314</td>\n",
              "    </tr>\n",
              "    <tr>\n",
              "      <th>1</th>\n",
              "      <td>Afghanistan</td>\n",
              "      <td>1957</td>\n",
              "      <td>9240934</td>\n",
              "      <td>Asia</td>\n",
              "      <td>30.332</td>\n",
              "      <td>820.853030</td>\n",
              "    </tr>\n",
              "    <tr>\n",
              "      <th>2</th>\n",
              "      <td>Afghanistan</td>\n",
              "      <td>1962</td>\n",
              "      <td>10267083</td>\n",
              "      <td>Asia</td>\n",
              "      <td>31.997</td>\n",
              "      <td>853.100710</td>\n",
              "    </tr>\n",
              "    <tr>\n",
              "      <th>3</th>\n",
              "      <td>Afghanistan</td>\n",
              "      <td>1967</td>\n",
              "      <td>11537966</td>\n",
              "      <td>Asia</td>\n",
              "      <td>34.020</td>\n",
              "      <td>836.197138</td>\n",
              "    </tr>\n",
              "    <tr>\n",
              "      <th>4</th>\n",
              "      <td>Afghanistan</td>\n",
              "      <td>1972</td>\n",
              "      <td>13079460</td>\n",
              "      <td>Asia</td>\n",
              "      <td>36.088</td>\n",
              "      <td>739.981106</td>\n",
              "    </tr>\n",
              "    <tr>\n",
              "      <th>5</th>\n",
              "      <td>Afghanistan</td>\n",
              "      <td>1977</td>\n",
              "      <td>14880372</td>\n",
              "      <td>Asia</td>\n",
              "      <td>38.438</td>\n",
              "      <td>786.113360</td>\n",
              "    </tr>\n",
              "    <tr>\n",
              "      <th>6</th>\n",
              "      <td>Afghanistan</td>\n",
              "      <td>1982</td>\n",
              "      <td>12881816</td>\n",
              "      <td>Asia</td>\n",
              "      <td>39.854</td>\n",
              "      <td>978.011439</td>\n",
              "    </tr>\n",
              "    <tr>\n",
              "      <th>7</th>\n",
              "      <td>Afghanistan</td>\n",
              "      <td>1987</td>\n",
              "      <td>13867957</td>\n",
              "      <td>Asia</td>\n",
              "      <td>40.822</td>\n",
              "      <td>852.395945</td>\n",
              "    </tr>\n",
              "  </tbody>\n",
              "</table>\n",
              "</div>\n",
              "      <button class=\"colab-df-convert\" onclick=\"convertToInteractive('df-5305584a-5c67-43e1-9b01-f44d74f9cd74')\"\n",
              "              title=\"Convert this dataframe to an interactive table.\"\n",
              "              style=\"display:none;\">\n",
              "        \n",
              "  <svg xmlns=\"http://www.w3.org/2000/svg\" height=\"24px\"viewBox=\"0 0 24 24\"\n",
              "       width=\"24px\">\n",
              "    <path d=\"M0 0h24v24H0V0z\" fill=\"none\"/>\n",
              "    <path d=\"M18.56 5.44l.94 2.06.94-2.06 2.06-.94-2.06-.94-.94-2.06-.94 2.06-2.06.94zm-11 1L8.5 8.5l.94-2.06 2.06-.94-2.06-.94L8.5 2.5l-.94 2.06-2.06.94zm10 10l.94 2.06.94-2.06 2.06-.94-2.06-.94-.94-2.06-.94 2.06-2.06.94z\"/><path d=\"M17.41 7.96l-1.37-1.37c-.4-.4-.92-.59-1.43-.59-.52 0-1.04.2-1.43.59L10.3 9.45l-7.72 7.72c-.78.78-.78 2.05 0 2.83L4 21.41c.39.39.9.59 1.41.59.51 0 1.02-.2 1.41-.59l7.78-7.78 2.81-2.81c.8-.78.8-2.07 0-2.86zM5.41 20L4 18.59l7.72-7.72 1.47 1.35L5.41 20z\"/>\n",
              "  </svg>\n",
              "      </button>\n",
              "      \n",
              "  <style>\n",
              "    .colab-df-container {\n",
              "      display:flex;\n",
              "      flex-wrap:wrap;\n",
              "      gap: 12px;\n",
              "    }\n",
              "\n",
              "    .colab-df-convert {\n",
              "      background-color: #E8F0FE;\n",
              "      border: none;\n",
              "      border-radius: 50%;\n",
              "      cursor: pointer;\n",
              "      display: none;\n",
              "      fill: #1967D2;\n",
              "      height: 32px;\n",
              "      padding: 0 0 0 0;\n",
              "      width: 32px;\n",
              "    }\n",
              "\n",
              "    .colab-df-convert:hover {\n",
              "      background-color: #E2EBFA;\n",
              "      box-shadow: 0px 1px 2px rgba(60, 64, 67, 0.3), 0px 1px 3px 1px rgba(60, 64, 67, 0.15);\n",
              "      fill: #174EA6;\n",
              "    }\n",
              "\n",
              "    [theme=dark] .colab-df-convert {\n",
              "      background-color: #3B4455;\n",
              "      fill: #D2E3FC;\n",
              "    }\n",
              "\n",
              "    [theme=dark] .colab-df-convert:hover {\n",
              "      background-color: #434B5C;\n",
              "      box-shadow: 0px 1px 3px 1px rgba(0, 0, 0, 0.15);\n",
              "      filter: drop-shadow(0px 1px 2px rgba(0, 0, 0, 0.3));\n",
              "      fill: #FFFFFF;\n",
              "    }\n",
              "  </style>\n",
              "\n",
              "      <script>\n",
              "        const buttonEl =\n",
              "          document.querySelector('#df-5305584a-5c67-43e1-9b01-f44d74f9cd74 button.colab-df-convert');\n",
              "        buttonEl.style.display =\n",
              "          google.colab.kernel.accessAllowed ? 'block' : 'none';\n",
              "\n",
              "        async function convertToInteractive(key) {\n",
              "          const element = document.querySelector('#df-5305584a-5c67-43e1-9b01-f44d74f9cd74');\n",
              "          const dataTable =\n",
              "            await google.colab.kernel.invokeFunction('convertToInteractive',\n",
              "                                                     [key], {});\n",
              "          if (!dataTable) return;\n",
              "\n",
              "          const docLinkHtml = 'Like what you see? Visit the ' +\n",
              "            '<a target=\"_blank\" href=https://colab.research.google.com/notebooks/data_table.ipynb>data table notebook</a>'\n",
              "            + ' to learn more about interactive tables.';\n",
              "          element.innerHTML = '';\n",
              "          dataTable['output_type'] = 'display_data';\n",
              "          await google.colab.output.renderOutput(dataTable, element);\n",
              "          const docLink = document.createElement('div');\n",
              "          docLink.innerHTML = docLinkHtml;\n",
              "          element.appendChild(docLink);\n",
              "        }\n",
              "      </script>\n",
              "    </div>\n",
              "  </div>\n",
              "  "
            ]
          },
          "metadata": {},
          "execution_count": 82
        }
      ]
    },
    {
      "cell_type": "code",
      "source": [
        "df.info()"
      ],
      "metadata": {
        "colab": {
          "base_uri": "https://localhost:8080/"
        },
        "id": "0I25rKhllSzr",
        "outputId": "88f55713-5c04-47af-f0e4-cb43545c492f"
      },
      "execution_count": 84,
      "outputs": [
        {
          "output_type": "stream",
          "name": "stdout",
          "text": [
            "<class 'pandas.core.frame.DataFrame'>\n",
            "RangeIndex: 1704 entries, 0 to 1703\n",
            "Data columns (total 6 columns):\n",
            " #   Column      Non-Null Count  Dtype  \n",
            "---  ------      --------------  -----  \n",
            " 0   country     1704 non-null   object \n",
            " 1   year        1704 non-null   int64  \n",
            " 2   population  1704 non-null   int64  \n",
            " 3   continent   1704 non-null   object \n",
            " 4   life_exp    1704 non-null   float64\n",
            " 5   gdp_cap     1704 non-null   float64\n",
            "dtypes: float64(2), int64(2), object(2)\n",
            "memory usage: 80.0+ KB\n"
          ]
        }
      ]
    },
    {
      "cell_type": "code",
      "source": [
        "df.describe()"
      ],
      "metadata": {
        "colab": {
          "base_uri": "https://localhost:8080/",
          "height": 300
        },
        "id": "ZiGj-jBRlkXR",
        "outputId": "2e5db6c2-acb1-47d3-f868-981d6f4f49c3"
      },
      "execution_count": 85,
      "outputs": [
        {
          "output_type": "execute_result",
          "data": {
            "text/plain": [
              "             year    population     life_exp        gdp_cap\n",
              "count  1704.00000  1.704000e+03  1704.000000    1704.000000\n",
              "mean   1979.50000  2.960121e+07    59.474439    7215.327081\n",
              "std      17.26533  1.061579e+08    12.917107    9857.454543\n",
              "min    1952.00000  6.001100e+04    23.599000     241.165876\n",
              "25%    1965.75000  2.793664e+06    48.198000    1202.060309\n",
              "50%    1979.50000  7.023596e+06    60.712500    3531.846988\n",
              "75%    1993.25000  1.958522e+07    70.845500    9325.462346\n",
              "max    2007.00000  1.318683e+09    82.603000  113523.132900"
            ],
            "text/html": [
              "\n",
              "  <div id=\"df-57157921-0f8c-4254-823a-82fdbcbc5caa\">\n",
              "    <div class=\"colab-df-container\">\n",
              "      <div>\n",
              "<style scoped>\n",
              "    .dataframe tbody tr th:only-of-type {\n",
              "        vertical-align: middle;\n",
              "    }\n",
              "\n",
              "    .dataframe tbody tr th {\n",
              "        vertical-align: top;\n",
              "    }\n",
              "\n",
              "    .dataframe thead th {\n",
              "        text-align: right;\n",
              "    }\n",
              "</style>\n",
              "<table border=\"1\" class=\"dataframe\">\n",
              "  <thead>\n",
              "    <tr style=\"text-align: right;\">\n",
              "      <th></th>\n",
              "      <th>year</th>\n",
              "      <th>population</th>\n",
              "      <th>life_exp</th>\n",
              "      <th>gdp_cap</th>\n",
              "    </tr>\n",
              "  </thead>\n",
              "  <tbody>\n",
              "    <tr>\n",
              "      <th>count</th>\n",
              "      <td>1704.00000</td>\n",
              "      <td>1.704000e+03</td>\n",
              "      <td>1704.000000</td>\n",
              "      <td>1704.000000</td>\n",
              "    </tr>\n",
              "    <tr>\n",
              "      <th>mean</th>\n",
              "      <td>1979.50000</td>\n",
              "      <td>2.960121e+07</td>\n",
              "      <td>59.474439</td>\n",
              "      <td>7215.327081</td>\n",
              "    </tr>\n",
              "    <tr>\n",
              "      <th>std</th>\n",
              "      <td>17.26533</td>\n",
              "      <td>1.061579e+08</td>\n",
              "      <td>12.917107</td>\n",
              "      <td>9857.454543</td>\n",
              "    </tr>\n",
              "    <tr>\n",
              "      <th>min</th>\n",
              "      <td>1952.00000</td>\n",
              "      <td>6.001100e+04</td>\n",
              "      <td>23.599000</td>\n",
              "      <td>241.165876</td>\n",
              "    </tr>\n",
              "    <tr>\n",
              "      <th>25%</th>\n",
              "      <td>1965.75000</td>\n",
              "      <td>2.793664e+06</td>\n",
              "      <td>48.198000</td>\n",
              "      <td>1202.060309</td>\n",
              "    </tr>\n",
              "    <tr>\n",
              "      <th>50%</th>\n",
              "      <td>1979.50000</td>\n",
              "      <td>7.023596e+06</td>\n",
              "      <td>60.712500</td>\n",
              "      <td>3531.846988</td>\n",
              "    </tr>\n",
              "    <tr>\n",
              "      <th>75%</th>\n",
              "      <td>1993.25000</td>\n",
              "      <td>1.958522e+07</td>\n",
              "      <td>70.845500</td>\n",
              "      <td>9325.462346</td>\n",
              "    </tr>\n",
              "    <tr>\n",
              "      <th>max</th>\n",
              "      <td>2007.00000</td>\n",
              "      <td>1.318683e+09</td>\n",
              "      <td>82.603000</td>\n",
              "      <td>113523.132900</td>\n",
              "    </tr>\n",
              "  </tbody>\n",
              "</table>\n",
              "</div>\n",
              "      <button class=\"colab-df-convert\" onclick=\"convertToInteractive('df-57157921-0f8c-4254-823a-82fdbcbc5caa')\"\n",
              "              title=\"Convert this dataframe to an interactive table.\"\n",
              "              style=\"display:none;\">\n",
              "        \n",
              "  <svg xmlns=\"http://www.w3.org/2000/svg\" height=\"24px\"viewBox=\"0 0 24 24\"\n",
              "       width=\"24px\">\n",
              "    <path d=\"M0 0h24v24H0V0z\" fill=\"none\"/>\n",
              "    <path d=\"M18.56 5.44l.94 2.06.94-2.06 2.06-.94-2.06-.94-.94-2.06-.94 2.06-2.06.94zm-11 1L8.5 8.5l.94-2.06 2.06-.94-2.06-.94L8.5 2.5l-.94 2.06-2.06.94zm10 10l.94 2.06.94-2.06 2.06-.94-2.06-.94-.94-2.06-.94 2.06-2.06.94z\"/><path d=\"M17.41 7.96l-1.37-1.37c-.4-.4-.92-.59-1.43-.59-.52 0-1.04.2-1.43.59L10.3 9.45l-7.72 7.72c-.78.78-.78 2.05 0 2.83L4 21.41c.39.39.9.59 1.41.59.51 0 1.02-.2 1.41-.59l7.78-7.78 2.81-2.81c.8-.78.8-2.07 0-2.86zM5.41 20L4 18.59l7.72-7.72 1.47 1.35L5.41 20z\"/>\n",
              "  </svg>\n",
              "      </button>\n",
              "      \n",
              "  <style>\n",
              "    .colab-df-container {\n",
              "      display:flex;\n",
              "      flex-wrap:wrap;\n",
              "      gap: 12px;\n",
              "    }\n",
              "\n",
              "    .colab-df-convert {\n",
              "      background-color: #E8F0FE;\n",
              "      border: none;\n",
              "      border-radius: 50%;\n",
              "      cursor: pointer;\n",
              "      display: none;\n",
              "      fill: #1967D2;\n",
              "      height: 32px;\n",
              "      padding: 0 0 0 0;\n",
              "      width: 32px;\n",
              "    }\n",
              "\n",
              "    .colab-df-convert:hover {\n",
              "      background-color: #E2EBFA;\n",
              "      box-shadow: 0px 1px 2px rgba(60, 64, 67, 0.3), 0px 1px 3px 1px rgba(60, 64, 67, 0.15);\n",
              "      fill: #174EA6;\n",
              "    }\n",
              "\n",
              "    [theme=dark] .colab-df-convert {\n",
              "      background-color: #3B4455;\n",
              "      fill: #D2E3FC;\n",
              "    }\n",
              "\n",
              "    [theme=dark] .colab-df-convert:hover {\n",
              "      background-color: #434B5C;\n",
              "      box-shadow: 0px 1px 3px 1px rgba(0, 0, 0, 0.15);\n",
              "      filter: drop-shadow(0px 1px 2px rgba(0, 0, 0, 0.3));\n",
              "      fill: #FFFFFF;\n",
              "    }\n",
              "  </style>\n",
              "\n",
              "      <script>\n",
              "        const buttonEl =\n",
              "          document.querySelector('#df-57157921-0f8c-4254-823a-82fdbcbc5caa button.colab-df-convert');\n",
              "        buttonEl.style.display =\n",
              "          google.colab.kernel.accessAllowed ? 'block' : 'none';\n",
              "\n",
              "        async function convertToInteractive(key) {\n",
              "          const element = document.querySelector('#df-57157921-0f8c-4254-823a-82fdbcbc5caa');\n",
              "          const dataTable =\n",
              "            await google.colab.kernel.invokeFunction('convertToInteractive',\n",
              "                                                     [key], {});\n",
              "          if (!dataTable) return;\n",
              "\n",
              "          const docLinkHtml = 'Like what you see? Visit the ' +\n",
              "            '<a target=\"_blank\" href=https://colab.research.google.com/notebooks/data_table.ipynb>data table notebook</a>'\n",
              "            + ' to learn more about interactive tables.';\n",
              "          element.innerHTML = '';\n",
              "          dataTable['output_type'] = 'display_data';\n",
              "          await google.colab.output.renderOutput(dataTable, element);\n",
              "          const docLink = document.createElement('div');\n",
              "          docLink.innerHTML = docLinkHtml;\n",
              "          element.appendChild(docLink);\n",
              "        }\n",
              "      </script>\n",
              "    </div>\n",
              "  </div>\n",
              "  "
            ]
          },
          "metadata": {},
          "execution_count": 85
        }
      ]
    },
    {
      "cell_type": "code",
      "source": [],
      "metadata": {
        "id": "7ABq3NBal6Ts"
      },
      "execution_count": null,
      "outputs": []
    }
  ]
}